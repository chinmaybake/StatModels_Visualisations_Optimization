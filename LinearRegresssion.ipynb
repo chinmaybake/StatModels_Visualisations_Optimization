{
 "cells": [
  {
   "cell_type": "code",
   "execution_count": 174,
   "metadata": {},
   "outputs": [],
   "source": [
    "import pandas as pd \n",
    "df=pd.read_csv(r'C:\\Users\\chinm\\Downloads\\Traffic.csv')"
   ]
  },
  {
   "cell_type": "code",
   "execution_count": 175,
   "metadata": {},
   "outputs": [
    {
     "data": {
      "text/html": [
       "<div>\n",
       "<style scoped>\n",
       "    .dataframe tbody tr th:only-of-type {\n",
       "        vertical-align: middle;\n",
       "    }\n",
       "\n",
       "    .dataframe tbody tr th {\n",
       "        vertical-align: top;\n",
       "    }\n",
       "\n",
       "    .dataframe thead th {\n",
       "        text-align: right;\n",
       "    }\n",
       "</style>\n",
       "<table border=\"1\" class=\"dataframe\">\n",
       "  <thead>\n",
       "    <tr style=\"text-align: right;\">\n",
       "      <th></th>\n",
       "      <th>holiday</th>\n",
       "      <th>temp</th>\n",
       "      <th>rain_1h</th>\n",
       "      <th>snow_1h</th>\n",
       "      <th>clouds_all</th>\n",
       "      <th>weather_main</th>\n",
       "      <th>weather_description</th>\n",
       "      <th>date_time</th>\n",
       "      <th>traffic_volume</th>\n",
       "    </tr>\n",
       "  </thead>\n",
       "  <tbody>\n",
       "    <tr>\n",
       "      <td>0</td>\n",
       "      <td>None</td>\n",
       "      <td>288.28</td>\n",
       "      <td>0.0</td>\n",
       "      <td>0.0</td>\n",
       "      <td>40</td>\n",
       "      <td>Clouds</td>\n",
       "      <td>scattered clouds</td>\n",
       "      <td>2012-10-02 09:00:00</td>\n",
       "      <td>5545</td>\n",
       "    </tr>\n",
       "    <tr>\n",
       "      <td>1</td>\n",
       "      <td>None</td>\n",
       "      <td>289.36</td>\n",
       "      <td>0.0</td>\n",
       "      <td>0.0</td>\n",
       "      <td>75</td>\n",
       "      <td>Clouds</td>\n",
       "      <td>broken clouds</td>\n",
       "      <td>2012-10-02 10:00:00</td>\n",
       "      <td>4516</td>\n",
       "    </tr>\n",
       "    <tr>\n",
       "      <td>2</td>\n",
       "      <td>None</td>\n",
       "      <td>289.58</td>\n",
       "      <td>0.0</td>\n",
       "      <td>0.0</td>\n",
       "      <td>90</td>\n",
       "      <td>Clouds</td>\n",
       "      <td>overcast clouds</td>\n",
       "      <td>2012-10-02 11:00:00</td>\n",
       "      <td>4767</td>\n",
       "    </tr>\n",
       "    <tr>\n",
       "      <td>3</td>\n",
       "      <td>None</td>\n",
       "      <td>290.13</td>\n",
       "      <td>0.0</td>\n",
       "      <td>0.0</td>\n",
       "      <td>90</td>\n",
       "      <td>Clouds</td>\n",
       "      <td>overcast clouds</td>\n",
       "      <td>2012-10-02 12:00:00</td>\n",
       "      <td>5026</td>\n",
       "    </tr>\n",
       "    <tr>\n",
       "      <td>4</td>\n",
       "      <td>None</td>\n",
       "      <td>291.14</td>\n",
       "      <td>0.0</td>\n",
       "      <td>0.0</td>\n",
       "      <td>75</td>\n",
       "      <td>Clouds</td>\n",
       "      <td>broken clouds</td>\n",
       "      <td>2012-10-02 13:00:00</td>\n",
       "      <td>4918</td>\n",
       "    </tr>\n",
       "  </tbody>\n",
       "</table>\n",
       "</div>"
      ],
      "text/plain": [
       "  holiday    temp  rain_1h  snow_1h  clouds_all weather_main  \\\n",
       "0    None  288.28      0.0      0.0          40       Clouds   \n",
       "1    None  289.36      0.0      0.0          75       Clouds   \n",
       "2    None  289.58      0.0      0.0          90       Clouds   \n",
       "3    None  290.13      0.0      0.0          90       Clouds   \n",
       "4    None  291.14      0.0      0.0          75       Clouds   \n",
       "\n",
       "  weather_description            date_time  traffic_volume  \n",
       "0    scattered clouds  2012-10-02 09:00:00            5545  \n",
       "1       broken clouds  2012-10-02 10:00:00            4516  \n",
       "2     overcast clouds  2012-10-02 11:00:00            4767  \n",
       "3     overcast clouds  2012-10-02 12:00:00            5026  \n",
       "4       broken clouds  2012-10-02 13:00:00            4918  "
      ]
     },
     "execution_count": 175,
     "metadata": {},
     "output_type": "execute_result"
    }
   ],
   "source": [
    "df.head()"
   ]
  },
  {
   "cell_type": "code",
   "execution_count": 176,
   "metadata": {},
   "outputs": [
    {
     "name": "stderr",
     "output_type": "stream",
     "text": [
      "c:\\users\\chinm\\appdata\\local\\programs\\python\\python37\\lib\\site-packages\\ipykernel_launcher.py:6: SettingWithCopyWarning: \n",
      "A value is trying to be set on a copy of a slice from a DataFrame.\n",
      "Try using .loc[row_indexer,col_indexer] = value instead\n",
      "\n",
      "See the caveats in the documentation: http://pandas.pydata.org/pandas-docs/stable/user_guide/indexing.html#returning-a-view-versus-a-copy\n",
      "  \n"
     ]
    }
   ],
   "source": [
    "df['date_time']=pd.to_datetime(df['date_time'])\n",
    "df['dayofweek']=df['date_time'].dt.dayofweek\n",
    "df['holiday_X']=df.holiday.map({'None':0,'Christmas Day':1,'Columbus Day':1,'Independence Day':1,'Labor Day':1,'Martin Luther King Jr Day':1,'Memorial Day':1,'New Years Day':1,'State Fair':1,'Thanksgiving Day':1,'Veterans Day':1,'Washingtons Birthday':1})\n",
    "df['weekend_X']=df.dayofweek.map({0:0,1:0,2:0,3:0,4:0,5:1,6:1})\n",
    "df_sub1=df[(df['holiday_X']==1)]\n",
    "df_sub1['date_time']=df_sub1['date_time'].dt.hour\n",
    "df=df.drop(['dayofweek'],axis=1)\n",
    "df['date_time']=df['date_time'].dt.hour"
   ]
  },
  {
   "cell_type": "code",
   "execution_count": 177,
   "metadata": {},
   "outputs": [
    {
     "data": {
      "text/html": [
       "<div>\n",
       "<style scoped>\n",
       "    .dataframe tbody tr th:only-of-type {\n",
       "        vertical-align: middle;\n",
       "    }\n",
       "\n",
       "    .dataframe tbody tr th {\n",
       "        vertical-align: top;\n",
       "    }\n",
       "\n",
       "    .dataframe thead th {\n",
       "        text-align: right;\n",
       "    }\n",
       "</style>\n",
       "<table border=\"1\" class=\"dataframe\">\n",
       "  <thead>\n",
       "    <tr style=\"text-align: right;\">\n",
       "      <th></th>\n",
       "      <th>holiday</th>\n",
       "      <th>temp</th>\n",
       "      <th>rain_1h</th>\n",
       "      <th>snow_1h</th>\n",
       "      <th>clouds_all</th>\n",
       "      <th>weather_main</th>\n",
       "      <th>weather_description</th>\n",
       "      <th>date_time</th>\n",
       "      <th>traffic_volume</th>\n",
       "      <th>holiday_X</th>\n",
       "      <th>weekend_X</th>\n",
       "    </tr>\n",
       "  </thead>\n",
       "  <tbody>\n",
       "    <tr>\n",
       "      <td>0</td>\n",
       "      <td>None</td>\n",
       "      <td>288.28</td>\n",
       "      <td>0.0</td>\n",
       "      <td>0.0</td>\n",
       "      <td>40</td>\n",
       "      <td>Clouds</td>\n",
       "      <td>scattered clouds</td>\n",
       "      <td>9</td>\n",
       "      <td>5545</td>\n",
       "      <td>0</td>\n",
       "      <td>0</td>\n",
       "    </tr>\n",
       "    <tr>\n",
       "      <td>1</td>\n",
       "      <td>None</td>\n",
       "      <td>289.36</td>\n",
       "      <td>0.0</td>\n",
       "      <td>0.0</td>\n",
       "      <td>75</td>\n",
       "      <td>Clouds</td>\n",
       "      <td>broken clouds</td>\n",
       "      <td>10</td>\n",
       "      <td>4516</td>\n",
       "      <td>0</td>\n",
       "      <td>0</td>\n",
       "    </tr>\n",
       "    <tr>\n",
       "      <td>2</td>\n",
       "      <td>None</td>\n",
       "      <td>289.58</td>\n",
       "      <td>0.0</td>\n",
       "      <td>0.0</td>\n",
       "      <td>90</td>\n",
       "      <td>Clouds</td>\n",
       "      <td>overcast clouds</td>\n",
       "      <td>11</td>\n",
       "      <td>4767</td>\n",
       "      <td>0</td>\n",
       "      <td>0</td>\n",
       "    </tr>\n",
       "    <tr>\n",
       "      <td>3</td>\n",
       "      <td>None</td>\n",
       "      <td>290.13</td>\n",
       "      <td>0.0</td>\n",
       "      <td>0.0</td>\n",
       "      <td>90</td>\n",
       "      <td>Clouds</td>\n",
       "      <td>overcast clouds</td>\n",
       "      <td>12</td>\n",
       "      <td>5026</td>\n",
       "      <td>0</td>\n",
       "      <td>0</td>\n",
       "    </tr>\n",
       "    <tr>\n",
       "      <td>4</td>\n",
       "      <td>None</td>\n",
       "      <td>291.14</td>\n",
       "      <td>0.0</td>\n",
       "      <td>0.0</td>\n",
       "      <td>75</td>\n",
       "      <td>Clouds</td>\n",
       "      <td>broken clouds</td>\n",
       "      <td>13</td>\n",
       "      <td>4918</td>\n",
       "      <td>0</td>\n",
       "      <td>0</td>\n",
       "    </tr>\n",
       "    <tr>\n",
       "      <td>...</td>\n",
       "      <td>...</td>\n",
       "      <td>...</td>\n",
       "      <td>...</td>\n",
       "      <td>...</td>\n",
       "      <td>...</td>\n",
       "      <td>...</td>\n",
       "      <td>...</td>\n",
       "      <td>...</td>\n",
       "      <td>...</td>\n",
       "      <td>...</td>\n",
       "      <td>...</td>\n",
       "    </tr>\n",
       "    <tr>\n",
       "      <td>40649</td>\n",
       "      <td>None</td>\n",
       "      <td>283.45</td>\n",
       "      <td>0.0</td>\n",
       "      <td>0.0</td>\n",
       "      <td>75</td>\n",
       "      <td>Clouds</td>\n",
       "      <td>broken clouds</td>\n",
       "      <td>19</td>\n",
       "      <td>3543</td>\n",
       "      <td>0</td>\n",
       "      <td>1</td>\n",
       "    </tr>\n",
       "    <tr>\n",
       "      <td>40650</td>\n",
       "      <td>None</td>\n",
       "      <td>282.76</td>\n",
       "      <td>0.0</td>\n",
       "      <td>0.0</td>\n",
       "      <td>90</td>\n",
       "      <td>Clouds</td>\n",
       "      <td>overcast clouds</td>\n",
       "      <td>20</td>\n",
       "      <td>2781</td>\n",
       "      <td>0</td>\n",
       "      <td>1</td>\n",
       "    </tr>\n",
       "    <tr>\n",
       "      <td>40651</td>\n",
       "      <td>None</td>\n",
       "      <td>282.73</td>\n",
       "      <td>0.0</td>\n",
       "      <td>0.0</td>\n",
       "      <td>90</td>\n",
       "      <td>Thunderstorm</td>\n",
       "      <td>proximity thunderstorm</td>\n",
       "      <td>21</td>\n",
       "      <td>2159</td>\n",
       "      <td>0</td>\n",
       "      <td>1</td>\n",
       "    </tr>\n",
       "    <tr>\n",
       "      <td>40652</td>\n",
       "      <td>None</td>\n",
       "      <td>282.09</td>\n",
       "      <td>0.0</td>\n",
       "      <td>0.0</td>\n",
       "      <td>90</td>\n",
       "      <td>Clouds</td>\n",
       "      <td>overcast clouds</td>\n",
       "      <td>22</td>\n",
       "      <td>1450</td>\n",
       "      <td>0</td>\n",
       "      <td>1</td>\n",
       "    </tr>\n",
       "    <tr>\n",
       "      <td>40653</td>\n",
       "      <td>None</td>\n",
       "      <td>282.12</td>\n",
       "      <td>0.0</td>\n",
       "      <td>0.0</td>\n",
       "      <td>90</td>\n",
       "      <td>Clouds</td>\n",
       "      <td>overcast clouds</td>\n",
       "      <td>23</td>\n",
       "      <td>954</td>\n",
       "      <td>0</td>\n",
       "      <td>1</td>\n",
       "    </tr>\n",
       "  </tbody>\n",
       "</table>\n",
       "<p>40654 rows × 11 columns</p>\n",
       "</div>"
      ],
      "text/plain": [
       "      holiday    temp  rain_1h  snow_1h  clouds_all  weather_main  \\\n",
       "0        None  288.28      0.0      0.0          40        Clouds   \n",
       "1        None  289.36      0.0      0.0          75        Clouds   \n",
       "2        None  289.58      0.0      0.0          90        Clouds   \n",
       "3        None  290.13      0.0      0.0          90        Clouds   \n",
       "4        None  291.14      0.0      0.0          75        Clouds   \n",
       "...       ...     ...      ...      ...         ...           ...   \n",
       "40649    None  283.45      0.0      0.0          75        Clouds   \n",
       "40650    None  282.76      0.0      0.0          90        Clouds   \n",
       "40651    None  282.73      0.0      0.0          90  Thunderstorm   \n",
       "40652    None  282.09      0.0      0.0          90        Clouds   \n",
       "40653    None  282.12      0.0      0.0          90        Clouds   \n",
       "\n",
       "          weather_description  date_time  traffic_volume  holiday_X  weekend_X  \n",
       "0            scattered clouds          9            5545          0          0  \n",
       "1               broken clouds         10            4516          0          0  \n",
       "2             overcast clouds         11            4767          0          0  \n",
       "3             overcast clouds         12            5026          0          0  \n",
       "4               broken clouds         13            4918          0          0  \n",
       "...                       ...        ...             ...        ...        ...  \n",
       "40649           broken clouds         19            3543          0          1  \n",
       "40650         overcast clouds         20            2781          0          1  \n",
       "40651  proximity thunderstorm         21            2159          0          1  \n",
       "40652         overcast clouds         22            1450          0          1  \n",
       "40653         overcast clouds         23             954          0          1  \n",
       "\n",
       "[40654 rows x 11 columns]"
      ]
     },
     "execution_count": 177,
     "metadata": {},
     "output_type": "execute_result"
    }
   ],
   "source": [
    "df\n",
    "#df_sub1\n",
    "#df.head()"
   ]
  },
  {
   "cell_type": "code",
   "execution_count": 178,
   "metadata": {},
   "outputs": [],
   "source": [
    "indexNames = df[df['date_time']!=8].index\n",
    "df.drop(indexNames , inplace=True)"
   ]
  },
  {
   "cell_type": "code",
   "execution_count": 91,
   "metadata": {
    "scrolled": true
   },
   "outputs": [
    {
     "data": {
      "text/html": [
       "<div>\n",
       "<style scoped>\n",
       "    .dataframe tbody tr th:only-of-type {\n",
       "        vertical-align: middle;\n",
       "    }\n",
       "\n",
       "    .dataframe tbody tr th {\n",
       "        vertical-align: top;\n",
       "    }\n",
       "\n",
       "    .dataframe thead th {\n",
       "        text-align: right;\n",
       "    }\n",
       "</style>\n",
       "<table border=\"1\" class=\"dataframe\">\n",
       "  <thead>\n",
       "    <tr style=\"text-align: right;\">\n",
       "      <th></th>\n",
       "      <th>holiday</th>\n",
       "      <th>temp</th>\n",
       "      <th>rain_1h</th>\n",
       "      <th>snow_1h</th>\n",
       "      <th>clouds_all</th>\n",
       "      <th>weather_main</th>\n",
       "      <th>weather_description</th>\n",
       "      <th>date_time</th>\n",
       "      <th>traffic_volume</th>\n",
       "      <th>holiday_X</th>\n",
       "      <th>weekend_X</th>\n",
       "    </tr>\n",
       "  </thead>\n",
       "  <tbody>\n",
       "    <tr>\n",
       "      <td>22</td>\n",
       "      <td>None</td>\n",
       "      <td>278.12</td>\n",
       "      <td>0.00</td>\n",
       "      <td>0.0</td>\n",
       "      <td>1</td>\n",
       "      <td>Clear</td>\n",
       "      <td>sky is clear</td>\n",
       "      <td>8</td>\n",
       "      <td>6511</td>\n",
       "      <td>0</td>\n",
       "      <td>0</td>\n",
       "    </tr>\n",
       "    <tr>\n",
       "      <td>43</td>\n",
       "      <td>None</td>\n",
       "      <td>281.86</td>\n",
       "      <td>0.00</td>\n",
       "      <td>0.0</td>\n",
       "      <td>1</td>\n",
       "      <td>Clear</td>\n",
       "      <td>sky is clear</td>\n",
       "      <td>8</td>\n",
       "      <td>5985</td>\n",
       "      <td>0</td>\n",
       "      <td>0</td>\n",
       "    </tr>\n",
       "    <tr>\n",
       "      <td>65</td>\n",
       "      <td>None</td>\n",
       "      <td>280.57</td>\n",
       "      <td>0.00</td>\n",
       "      <td>0.0</td>\n",
       "      <td>90</td>\n",
       "      <td>Clouds</td>\n",
       "      <td>overcast clouds</td>\n",
       "      <td>8</td>\n",
       "      <td>5534</td>\n",
       "      <td>0</td>\n",
       "      <td>0</td>\n",
       "    </tr>\n",
       "    <tr>\n",
       "      <td>88</td>\n",
       "      <td>None</td>\n",
       "      <td>274.99</td>\n",
       "      <td>0.00</td>\n",
       "      <td>0.0</td>\n",
       "      <td>1</td>\n",
       "      <td>Clear</td>\n",
       "      <td>sky is clear</td>\n",
       "      <td>8</td>\n",
       "      <td>3342</td>\n",
       "      <td>0</td>\n",
       "      <td>1</td>\n",
       "    </tr>\n",
       "    <tr>\n",
       "      <td>110</td>\n",
       "      <td>None</td>\n",
       "      <td>274.77</td>\n",
       "      <td>0.00</td>\n",
       "      <td>0.0</td>\n",
       "      <td>75</td>\n",
       "      <td>Clouds</td>\n",
       "      <td>broken clouds</td>\n",
       "      <td>8</td>\n",
       "      <td>2232</td>\n",
       "      <td>0</td>\n",
       "      <td>1</td>\n",
       "    </tr>\n",
       "    <tr>\n",
       "      <td>...</td>\n",
       "      <td>...</td>\n",
       "      <td>...</td>\n",
       "      <td>...</td>\n",
       "      <td>...</td>\n",
       "      <td>...</td>\n",
       "      <td>...</td>\n",
       "      <td>...</td>\n",
       "      <td>...</td>\n",
       "      <td>...</td>\n",
       "      <td>...</td>\n",
       "      <td>...</td>\n",
       "    </tr>\n",
       "    <tr>\n",
       "      <td>40542</td>\n",
       "      <td>None</td>\n",
       "      <td>279.43</td>\n",
       "      <td>0.25</td>\n",
       "      <td>0.0</td>\n",
       "      <td>75</td>\n",
       "      <td>Rain</td>\n",
       "      <td>light rain</td>\n",
       "      <td>8</td>\n",
       "      <td>6032</td>\n",
       "      <td>0</td>\n",
       "      <td>0</td>\n",
       "    </tr>\n",
       "    <tr>\n",
       "      <td>40566</td>\n",
       "      <td>None</td>\n",
       "      <td>285.05</td>\n",
       "      <td>0.00</td>\n",
       "      <td>0.0</td>\n",
       "      <td>1</td>\n",
       "      <td>Clear</td>\n",
       "      <td>sky is clear</td>\n",
       "      <td>8</td>\n",
       "      <td>5946</td>\n",
       "      <td>0</td>\n",
       "      <td>0</td>\n",
       "    </tr>\n",
       "    <tr>\n",
       "      <td>40590</td>\n",
       "      <td>None</td>\n",
       "      <td>278.83</td>\n",
       "      <td>0.00</td>\n",
       "      <td>0.0</td>\n",
       "      <td>1</td>\n",
       "      <td>Clear</td>\n",
       "      <td>sky is clear</td>\n",
       "      <td>8</td>\n",
       "      <td>5798</td>\n",
       "      <td>0</td>\n",
       "      <td>0</td>\n",
       "    </tr>\n",
       "    <tr>\n",
       "      <td>40614</td>\n",
       "      <td>None</td>\n",
       "      <td>275.43</td>\n",
       "      <td>0.00</td>\n",
       "      <td>0.0</td>\n",
       "      <td>75</td>\n",
       "      <td>Clouds</td>\n",
       "      <td>broken clouds</td>\n",
       "      <td>8</td>\n",
       "      <td>3073</td>\n",
       "      <td>0</td>\n",
       "      <td>1</td>\n",
       "    </tr>\n",
       "    <tr>\n",
       "      <td>40638</td>\n",
       "      <td>None</td>\n",
       "      <td>280.28</td>\n",
       "      <td>0.00</td>\n",
       "      <td>0.0</td>\n",
       "      <td>90</td>\n",
       "      <td>Clouds</td>\n",
       "      <td>overcast clouds</td>\n",
       "      <td>8</td>\n",
       "      <td>2002</td>\n",
       "      <td>0</td>\n",
       "      <td>1</td>\n",
       "    </tr>\n",
       "  </tbody>\n",
       "</table>\n",
       "<p>1690 rows × 11 columns</p>\n",
       "</div>"
      ],
      "text/plain": [
       "      holiday    temp  rain_1h  snow_1h  clouds_all weather_main  \\\n",
       "22       None  278.12     0.00      0.0           1        Clear   \n",
       "43       None  281.86     0.00      0.0           1        Clear   \n",
       "65       None  280.57     0.00      0.0          90       Clouds   \n",
       "88       None  274.99     0.00      0.0           1        Clear   \n",
       "110      None  274.77     0.00      0.0          75       Clouds   \n",
       "...       ...     ...      ...      ...         ...          ...   \n",
       "40542    None  279.43     0.25      0.0          75         Rain   \n",
       "40566    None  285.05     0.00      0.0           1        Clear   \n",
       "40590    None  278.83     0.00      0.0           1        Clear   \n",
       "40614    None  275.43     0.00      0.0          75       Clouds   \n",
       "40638    None  280.28     0.00      0.0          90       Clouds   \n",
       "\n",
       "      weather_description  date_time  traffic_volume  holiday_X  weekend_X  \n",
       "22           sky is clear          8            6511          0          0  \n",
       "43           sky is clear          8            5985          0          0  \n",
       "65        overcast clouds          8            5534          0          0  \n",
       "88           sky is clear          8            3342          0          1  \n",
       "110         broken clouds          8            2232          0          1  \n",
       "...                   ...        ...             ...        ...        ...  \n",
       "40542          light rain          8            6032          0          0  \n",
       "40566        sky is clear          8            5946          0          0  \n",
       "40590        sky is clear          8            5798          0          0  \n",
       "40614       broken clouds          8            3073          0          1  \n",
       "40638     overcast clouds          8            2002          0          1  \n",
       "\n",
       "[1690 rows x 11 columns]"
      ]
     },
     "execution_count": 91,
     "metadata": {},
     "output_type": "execute_result"
    }
   ],
   "source": [
    "df"
   ]
  },
  {
   "cell_type": "code",
   "execution_count": 179,
   "metadata": {},
   "outputs": [
    {
     "name": "stderr",
     "output_type": "stream",
     "text": [
      "c:\\users\\chinm\\appdata\\local\\programs\\python\\python37\\lib\\site-packages\\ipykernel_launcher.py:2: FutureWarning: Sorting because non-concatenation axis is not aligned. A future version\n",
      "of pandas will change to not sort by default.\n",
      "\n",
      "To accept the future behavior, pass 'sort=False'.\n",
      "\n",
      "To retain the current behavior and silence the warning, pass 'sort=True'.\n",
      "\n",
      "  \n"
     ]
    }
   ],
   "source": [
    "df_sub1['weekend_X']=df_sub1['weekend_X'].replace(0,1)\n",
    "df_final=pd.concat([df,df_sub1], ignore_index=True, axis=0)"
   ]
  },
  {
   "cell_type": "code",
   "execution_count": 180,
   "metadata": {},
   "outputs": [],
   "source": [
    "\n",
    "df_final=df_final.drop(['holiday_X'],axis=1)\n"
   ]
  },
  {
   "cell_type": "code",
   "execution_count": 159,
   "metadata": {},
   "outputs": [],
   "source": [
    "#now to have all the holiday(including weekends) variables in a single column; we map the holiday_X column against the weekend column\n",
    "\n",
    "\n"
   ]
  },
  {
   "cell_type": "code",
   "execution_count": 94,
   "metadata": {},
   "outputs": [
    {
     "data": {
      "text/html": [
       "<div>\n",
       "<style scoped>\n",
       "    .dataframe tbody tr th:only-of-type {\n",
       "        vertical-align: middle;\n",
       "    }\n",
       "\n",
       "    .dataframe tbody tr th {\n",
       "        vertical-align: top;\n",
       "    }\n",
       "\n",
       "    .dataframe thead th {\n",
       "        text-align: right;\n",
       "    }\n",
       "</style>\n",
       "<table border=\"1\" class=\"dataframe\">\n",
       "  <thead>\n",
       "    <tr style=\"text-align: right;\">\n",
       "      <th></th>\n",
       "      <th>clouds_all</th>\n",
       "      <th>date_time</th>\n",
       "      <th>dayofweek</th>\n",
       "      <th>holiday</th>\n",
       "      <th>rain_1h</th>\n",
       "      <th>snow_1h</th>\n",
       "      <th>temp</th>\n",
       "      <th>traffic_volume</th>\n",
       "      <th>weather_description</th>\n",
       "      <th>weather_main</th>\n",
       "      <th>weekend_X</th>\n",
       "    </tr>\n",
       "  </thead>\n",
       "  <tbody>\n",
       "    <tr>\n",
       "      <td>0</td>\n",
       "      <td>1</td>\n",
       "      <td>8</td>\n",
       "      <td>NaN</td>\n",
       "      <td>None</td>\n",
       "      <td>0.00</td>\n",
       "      <td>0.0</td>\n",
       "      <td>278.120</td>\n",
       "      <td>6511</td>\n",
       "      <td>sky is clear</td>\n",
       "      <td>Clear</td>\n",
       "      <td>0</td>\n",
       "    </tr>\n",
       "    <tr>\n",
       "      <td>1</td>\n",
       "      <td>1</td>\n",
       "      <td>8</td>\n",
       "      <td>NaN</td>\n",
       "      <td>None</td>\n",
       "      <td>0.00</td>\n",
       "      <td>0.0</td>\n",
       "      <td>281.860</td>\n",
       "      <td>5985</td>\n",
       "      <td>sky is clear</td>\n",
       "      <td>Clear</td>\n",
       "      <td>0</td>\n",
       "    </tr>\n",
       "    <tr>\n",
       "      <td>2</td>\n",
       "      <td>90</td>\n",
       "      <td>8</td>\n",
       "      <td>NaN</td>\n",
       "      <td>None</td>\n",
       "      <td>0.00</td>\n",
       "      <td>0.0</td>\n",
       "      <td>280.570</td>\n",
       "      <td>5534</td>\n",
       "      <td>overcast clouds</td>\n",
       "      <td>Clouds</td>\n",
       "      <td>0</td>\n",
       "    </tr>\n",
       "    <tr>\n",
       "      <td>3</td>\n",
       "      <td>1</td>\n",
       "      <td>8</td>\n",
       "      <td>NaN</td>\n",
       "      <td>None</td>\n",
       "      <td>0.00</td>\n",
       "      <td>0.0</td>\n",
       "      <td>274.990</td>\n",
       "      <td>3342</td>\n",
       "      <td>sky is clear</td>\n",
       "      <td>Clear</td>\n",
       "      <td>1</td>\n",
       "    </tr>\n",
       "    <tr>\n",
       "      <td>4</td>\n",
       "      <td>75</td>\n",
       "      <td>8</td>\n",
       "      <td>NaN</td>\n",
       "      <td>None</td>\n",
       "      <td>0.00</td>\n",
       "      <td>0.0</td>\n",
       "      <td>274.770</td>\n",
       "      <td>2232</td>\n",
       "      <td>broken clouds</td>\n",
       "      <td>Clouds</td>\n",
       "      <td>1</td>\n",
       "    </tr>\n",
       "    <tr>\n",
       "      <td>...</td>\n",
       "      <td>...</td>\n",
       "      <td>...</td>\n",
       "      <td>...</td>\n",
       "      <td>...</td>\n",
       "      <td>...</td>\n",
       "      <td>...</td>\n",
       "      <td>...</td>\n",
       "      <td>...</td>\n",
       "      <td>...</td>\n",
       "      <td>...</td>\n",
       "      <td>...</td>\n",
       "    </tr>\n",
       "    <tr>\n",
       "      <td>1738</td>\n",
       "      <td>20</td>\n",
       "      <td>0</td>\n",
       "      <td>0.0</td>\n",
       "      <td>Washingtons Birthday</td>\n",
       "      <td>0.00</td>\n",
       "      <td>0.0</td>\n",
       "      <td>270.730</td>\n",
       "      <td>623</td>\n",
       "      <td>few clouds</td>\n",
       "      <td>Clouds</td>\n",
       "      <td>1</td>\n",
       "    </tr>\n",
       "    <tr>\n",
       "      <td>1739</td>\n",
       "      <td>24</td>\n",
       "      <td>0</td>\n",
       "      <td>0.0</td>\n",
       "      <td>Memorial Day</td>\n",
       "      <td>0.00</td>\n",
       "      <td>0.0</td>\n",
       "      <td>299.487</td>\n",
       "      <td>1088</td>\n",
       "      <td>few clouds</td>\n",
       "      <td>Clouds</td>\n",
       "      <td>1</td>\n",
       "    </tr>\n",
       "    <tr>\n",
       "      <td>1740</td>\n",
       "      <td>1</td>\n",
       "      <td>0</td>\n",
       "      <td>2.0</td>\n",
       "      <td>Independence Day</td>\n",
       "      <td>0.00</td>\n",
       "      <td>0.0</td>\n",
       "      <td>297.550</td>\n",
       "      <td>1021</td>\n",
       "      <td>mist</td>\n",
       "      <td>Mist</td>\n",
       "      <td>1</td>\n",
       "    </tr>\n",
       "    <tr>\n",
       "      <td>1741</td>\n",
       "      <td>1</td>\n",
       "      <td>0</td>\n",
       "      <td>3.0</td>\n",
       "      <td>State Fair</td>\n",
       "      <td>0.00</td>\n",
       "      <td>0.0</td>\n",
       "      <td>289.020</td>\n",
       "      <td>596</td>\n",
       "      <td>sky is clear</td>\n",
       "      <td>Clear</td>\n",
       "      <td>1</td>\n",
       "    </tr>\n",
       "    <tr>\n",
       "      <td>1742</td>\n",
       "      <td>1</td>\n",
       "      <td>0</td>\n",
       "      <td>0.0</td>\n",
       "      <td>Labor Day</td>\n",
       "      <td>0.25</td>\n",
       "      <td>0.0</td>\n",
       "      <td>292.430</td>\n",
       "      <td>962</td>\n",
       "      <td>light rain</td>\n",
       "      <td>Rain</td>\n",
       "      <td>1</td>\n",
       "    </tr>\n",
       "  </tbody>\n",
       "</table>\n",
       "<p>1743 rows × 11 columns</p>\n",
       "</div>"
      ],
      "text/plain": [
       "      clouds_all  date_time  dayofweek               holiday  rain_1h  \\\n",
       "0              1          8        NaN                  None     0.00   \n",
       "1              1          8        NaN                  None     0.00   \n",
       "2             90          8        NaN                  None     0.00   \n",
       "3              1          8        NaN                  None     0.00   \n",
       "4             75          8        NaN                  None     0.00   \n",
       "...          ...        ...        ...                   ...      ...   \n",
       "1738          20          0        0.0  Washingtons Birthday     0.00   \n",
       "1739          24          0        0.0          Memorial Day     0.00   \n",
       "1740           1          0        2.0      Independence Day     0.00   \n",
       "1741           1          0        3.0            State Fair     0.00   \n",
       "1742           1          0        0.0             Labor Day     0.25   \n",
       "\n",
       "      snow_1h     temp  traffic_volume weather_description weather_main  \\\n",
       "0         0.0  278.120            6511        sky is clear        Clear   \n",
       "1         0.0  281.860            5985        sky is clear        Clear   \n",
       "2         0.0  280.570            5534     overcast clouds       Clouds   \n",
       "3         0.0  274.990            3342        sky is clear        Clear   \n",
       "4         0.0  274.770            2232       broken clouds       Clouds   \n",
       "...       ...      ...             ...                 ...          ...   \n",
       "1738      0.0  270.730             623          few clouds       Clouds   \n",
       "1739      0.0  299.487            1088          few clouds       Clouds   \n",
       "1740      0.0  297.550            1021                mist         Mist   \n",
       "1741      0.0  289.020             596        sky is clear        Clear   \n",
       "1742      0.0  292.430             962          light rain         Rain   \n",
       "\n",
       "      weekend_X  \n",
       "0             0  \n",
       "1             0  \n",
       "2             0  \n",
       "3             1  \n",
       "4             1  \n",
       "...         ...  \n",
       "1738          1  \n",
       "1739          1  \n",
       "1740          1  \n",
       "1741          1  \n",
       "1742          1  \n",
       "\n",
       "[1743 rows x 11 columns]"
      ]
     },
     "execution_count": 94,
     "metadata": {},
     "output_type": "execute_result"
    }
   ],
   "source": [
    "df_final"
   ]
  },
  {
   "cell_type": "code",
   "execution_count": 173,
   "metadata": {},
   "outputs": [],
   "source": [
    "\n",
    "        \n",
    "        \n"
   ]
  },
  {
   "cell_type": "code",
   "execution_count": 257,
   "metadata": {},
   "outputs": [
    {
     "data": {
      "text/html": [
       "<div>\n",
       "<style scoped>\n",
       "    .dataframe tbody tr th:only-of-type {\n",
       "        vertical-align: middle;\n",
       "    }\n",
       "\n",
       "    .dataframe tbody tr th {\n",
       "        vertical-align: top;\n",
       "    }\n",
       "\n",
       "    .dataframe thead th {\n",
       "        text-align: right;\n",
       "    }\n",
       "</style>\n",
       "<table border=\"1\" class=\"dataframe\">\n",
       "  <thead>\n",
       "    <tr style=\"text-align: right;\">\n",
       "      <th></th>\n",
       "      <th>clouds_all</th>\n",
       "      <th>date_time</th>\n",
       "      <th>holiday</th>\n",
       "      <th>holiday_X</th>\n",
       "      <th>rain_1h</th>\n",
       "      <th>snow_1h</th>\n",
       "      <th>temp</th>\n",
       "      <th>traffic_volume</th>\n",
       "      <th>weather_description</th>\n",
       "      <th>weather_main</th>\n",
       "      <th>weekend_X</th>\n",
       "    </tr>\n",
       "  </thead>\n",
       "  <tbody>\n",
       "    <tr>\n",
       "      <td>0</td>\n",
       "      <td>1</td>\n",
       "      <td>8</td>\n",
       "      <td>None</td>\n",
       "      <td>0</td>\n",
       "      <td>0.0</td>\n",
       "      <td>0.0</td>\n",
       "      <td>278.12</td>\n",
       "      <td>6511</td>\n",
       "      <td>sky is clear</td>\n",
       "      <td>Clear</td>\n",
       "      <td>0</td>\n",
       "    </tr>\n",
       "    <tr>\n",
       "      <td>1</td>\n",
       "      <td>1</td>\n",
       "      <td>8</td>\n",
       "      <td>None</td>\n",
       "      <td>0</td>\n",
       "      <td>0.0</td>\n",
       "      <td>0.0</td>\n",
       "      <td>281.86</td>\n",
       "      <td>5985</td>\n",
       "      <td>sky is clear</td>\n",
       "      <td>Clear</td>\n",
       "      <td>0</td>\n",
       "    </tr>\n",
       "    <tr>\n",
       "      <td>2</td>\n",
       "      <td>90</td>\n",
       "      <td>8</td>\n",
       "      <td>None</td>\n",
       "      <td>0</td>\n",
       "      <td>0.0</td>\n",
       "      <td>0.0</td>\n",
       "      <td>280.57</td>\n",
       "      <td>5534</td>\n",
       "      <td>overcast clouds</td>\n",
       "      <td>Clouds</td>\n",
       "      <td>0</td>\n",
       "    </tr>\n",
       "    <tr>\n",
       "      <td>3</td>\n",
       "      <td>1</td>\n",
       "      <td>8</td>\n",
       "      <td>None</td>\n",
       "      <td>0</td>\n",
       "      <td>0.0</td>\n",
       "      <td>0.0</td>\n",
       "      <td>274.99</td>\n",
       "      <td>3342</td>\n",
       "      <td>sky is clear</td>\n",
       "      <td>Clear</td>\n",
       "      <td>1</td>\n",
       "    </tr>\n",
       "    <tr>\n",
       "      <td>4</td>\n",
       "      <td>75</td>\n",
       "      <td>8</td>\n",
       "      <td>None</td>\n",
       "      <td>0</td>\n",
       "      <td>0.0</td>\n",
       "      <td>0.0</td>\n",
       "      <td>274.77</td>\n",
       "      <td>2232</td>\n",
       "      <td>broken clouds</td>\n",
       "      <td>Clouds</td>\n",
       "      <td>1</td>\n",
       "    </tr>\n",
       "  </tbody>\n",
       "</table>\n",
       "</div>"
      ],
      "text/plain": [
       "   clouds_all  date_time holiday  holiday_X  rain_1h  snow_1h    temp  \\\n",
       "0           1          8    None          0      0.0      0.0  278.12   \n",
       "1           1          8    None          0      0.0      0.0  281.86   \n",
       "2          90          8    None          0      0.0      0.0  280.57   \n",
       "3           1          8    None          0      0.0      0.0  274.99   \n",
       "4          75          8    None          0      0.0      0.0  274.77   \n",
       "\n",
       "   traffic_volume weather_description weather_main  weekend_X  \n",
       "0            6511        sky is clear        Clear          0  \n",
       "1            5985        sky is clear        Clear          0  \n",
       "2            5534     overcast clouds       Clouds          0  \n",
       "3            3342        sky is clear        Clear          1  \n",
       "4            2232       broken clouds       Clouds          1  "
      ]
     },
     "execution_count": 257,
     "metadata": {},
     "output_type": "execute_result"
    }
   ],
   "source": [
    "df_final.head()"
   ]
  },
  {
   "cell_type": "code",
   "execution_count": 181,
   "metadata": {},
   "outputs": [],
   "source": [
    "from sklearn import preprocessing\n",
    "from sklearn.linear_model import LinearRegression\n",
    "from sklearn . model_selection import train_test_split\n",
    "X=df_final[['weekend_X','clouds_all','rain_1h','snow_1h']]\n",
    "y=df_final['traffic_volume']\n",
    "#X=preprocessing.scale(X)\n",
    "#y=preprocessing.scale(y)\n",
    "X_train,X_test,y_train,y_test=train_test_split(X, y, test_size = 0.2, random_state = 0)\n",
    "lm1=LinearRegression().fit(X_train , y_train)\n",
    "y_pred=lm1.predict(X_test)\n",
    "\n"
   ]
  },
  {
   "cell_type": "code",
   "execution_count": 182,
   "metadata": {},
   "outputs": [
    {
     "data": {
      "text/plain": [
       "5559.848474832155"
      ]
     },
     "execution_count": 182,
     "metadata": {},
     "output_type": "execute_result"
    }
   ],
   "source": [
    "lm1.intercept_"
   ]
  },
  {
   "cell_type": "code",
   "execution_count": 183,
   "metadata": {},
   "outputs": [
    {
     "data": {
      "text/plain": [
       "0.7517527487994862"
      ]
     },
     "execution_count": 183,
     "metadata": {},
     "output_type": "execute_result"
    }
   ],
   "source": [
    "lm1.coef_\n",
    "lm1.score(X,y)"
   ]
  },
  {
   "cell_type": "code",
   "execution_count": 185,
   "metadata": {},
   "outputs": [],
   "source": [
    "X1=df_final[['weekend_X','clouds_all','snow_1h']]\n",
    "y1=df_final['traffic_volume']\n",
    "#X1=preprocessing.scale(X1)\n",
    "#y1=preprocessing.scale(y1)\n",
    "X_train1,X_test1,y_train1,y_test1=train_test_split(X1, y1, test_size = 0.2, random_state = 0)\n",
    "lm2=LinearRegression().fit(X_train1 , y_train1)\n",
    "y_pred1=lm2.predict(X_test1)"
   ]
  },
  {
   "cell_type": "code",
   "execution_count": 186,
   "metadata": {},
   "outputs": [
    {
     "data": {
      "text/plain": [
       "5559.957224042368"
      ]
     },
     "execution_count": 186,
     "metadata": {},
     "output_type": "execute_result"
    }
   ],
   "source": [
    "lm2.intercept_"
   ]
  },
  {
   "cell_type": "code",
   "execution_count": 187,
   "metadata": {},
   "outputs": [
    {
     "data": {
      "text/plain": [
       "0.7517514034330991"
      ]
     },
     "execution_count": 187,
     "metadata": {},
     "output_type": "execute_result"
    }
   ],
   "source": [
    "lm2.coef_\n",
    "lm2.score(X1,y1)"
   ]
  },
  {
   "cell_type": "code",
   "execution_count": 103,
   "metadata": {},
   "outputs": [],
   "source": [
    "import statsmodels . formula . api as smf\n",
    "from statsmodels.api import add_constant\n"
   ]
  },
  {
   "cell_type": "code",
   "execution_count": 104,
   "metadata": {},
   "outputs": [
    {
     "name": "stderr",
     "output_type": "stream",
     "text": [
      "c:\\users\\chinm\\appdata\\local\\programs\\python\\python37\\lib\\site-packages\\numpy\\core\\fromnumeric.py:2495: FutureWarning: Method .ptp is deprecated and will be removed in a future version. Use numpy.ptp instead.\n",
      "  return ptp(axis=axis, out=out, **kwargs)\n"
     ]
    }
   ],
   "source": [
    "X = add_constant(X)\n"
   ]
  },
  {
   "cell_type": "code",
   "execution_count": 107,
   "metadata": {},
   "outputs": [],
   "source": [
    "result=smf.ols(formula='traffic_volume ~ weekend_X+clouds_all+rain_1h+snow_1h',data=df_final).fit()"
   ]
  },
  {
   "cell_type": "code",
   "execution_count": 108,
   "metadata": {},
   "outputs": [
    {
     "data": {
      "text/html": [
       "<table class=\"simpletable\">\n",
       "<caption>OLS Regression Results</caption>\n",
       "<tr>\n",
       "  <th>Dep. Variable:</th>     <td>traffic_volume</td>  <th>  R-squared:         </th> <td>   0.752</td> \n",
       "</tr>\n",
       "<tr>\n",
       "  <th>Model:</th>                   <td>OLS</td>       <th>  Adj. R-squared:    </th> <td>   0.751</td> \n",
       "</tr>\n",
       "<tr>\n",
       "  <th>Method:</th>             <td>Least Squares</td>  <th>  F-statistic:       </th> <td>   1316.</td> \n",
       "</tr>\n",
       "<tr>\n",
       "  <th>Date:</th>             <td>Sat, 26 Oct 2019</td> <th>  Prob (F-statistic):</th>  <td>  0.00</td>  \n",
       "</tr>\n",
       "<tr>\n",
       "  <th>Time:</th>                 <td>15:45:58</td>     <th>  Log-Likelihood:    </th> <td> -14289.</td> \n",
       "</tr>\n",
       "<tr>\n",
       "  <th>No. Observations:</th>      <td>  1743</td>      <th>  AIC:               </th> <td>2.859e+04</td>\n",
       "</tr>\n",
       "<tr>\n",
       "  <th>Df Residuals:</th>          <td>  1738</td>      <th>  BIC:               </th> <td>2.862e+04</td>\n",
       "</tr>\n",
       "<tr>\n",
       "  <th>Df Model:</th>              <td>     4</td>      <th>                     </th>     <td> </td>    \n",
       "</tr>\n",
       "<tr>\n",
       "  <th>Covariance Type:</th>      <td>nonrobust</td>    <th>                     </th>     <td> </td>    \n",
       "</tr>\n",
       "</table>\n",
       "<table class=\"simpletable\">\n",
       "<tr>\n",
       "       <td></td>         <th>coef</th>     <th>std err</th>      <th>t</th>      <th>P>|t|</th>  <th>[0.025</th>    <th>0.975]</th>  \n",
       "</tr>\n",
       "<tr>\n",
       "  <th>Intercept</th>  <td> 5565.3923</td> <td>   36.884</td> <td>  150.888</td> <td> 0.000</td> <td> 5493.050</td> <td> 5637.735</td>\n",
       "</tr>\n",
       "<tr>\n",
       "  <th>weekend_X</th>  <td>-3305.8356</td> <td>   45.650</td> <td>  -72.418</td> <td> 0.000</td> <td>-3395.369</td> <td>-3216.302</td>\n",
       "</tr>\n",
       "<tr>\n",
       "  <th>clouds_all</th> <td>   -1.1434</td> <td>    0.551</td> <td>   -2.075</td> <td> 0.038</td> <td>   -2.224</td> <td>   -0.063</td>\n",
       "</tr>\n",
       "<tr>\n",
       "  <th>rain_1h</th>    <td>    2.8906</td> <td>   30.257</td> <td>    0.096</td> <td> 0.924</td> <td>  -56.453</td> <td>   62.234</td>\n",
       "</tr>\n",
       "<tr>\n",
       "  <th>snow_1h</th>    <td>-2.274e+04</td> <td> 7881.643</td> <td>   -2.886</td> <td> 0.004</td> <td>-3.82e+04</td> <td>-7285.168</td>\n",
       "</tr>\n",
       "</table>\n",
       "<table class=\"simpletable\">\n",
       "<tr>\n",
       "  <th>Omnibus:</th>       <td>915.155</td> <th>  Durbin-Watson:     </th> <td>   1.280</td>\n",
       "</tr>\n",
       "<tr>\n",
       "  <th>Prob(Omnibus):</th> <td> 0.000</td>  <th>  Jarque-Bera (JB):  </th> <td>6701.674</td>\n",
       "</tr>\n",
       "<tr>\n",
       "  <th>Skew:</th>          <td>-2.386</td>  <th>  Prob(JB):          </th> <td>    0.00</td>\n",
       "</tr>\n",
       "<tr>\n",
       "  <th>Kurtosis:</th>      <td>11.337</td>  <th>  Cond. No.          </th> <td>2.26e+04</td>\n",
       "</tr>\n",
       "</table><br/><br/>Warnings:<br/>[1] Standard Errors assume that the covariance matrix of the errors is correctly specified.<br/>[2] The condition number is large, 2.26e+04. This might indicate that there are<br/>strong multicollinearity or other numerical problems."
      ],
      "text/plain": [
       "<class 'statsmodels.iolib.summary.Summary'>\n",
       "\"\"\"\n",
       "                            OLS Regression Results                            \n",
       "==============================================================================\n",
       "Dep. Variable:         traffic_volume   R-squared:                       0.752\n",
       "Model:                            OLS   Adj. R-squared:                  0.751\n",
       "Method:                 Least Squares   F-statistic:                     1316.\n",
       "Date:                Sat, 26 Oct 2019   Prob (F-statistic):               0.00\n",
       "Time:                        15:45:58   Log-Likelihood:                -14289.\n",
       "No. Observations:                1743   AIC:                         2.859e+04\n",
       "Df Residuals:                    1738   BIC:                         2.862e+04\n",
       "Df Model:                           4                                         \n",
       "Covariance Type:            nonrobust                                         \n",
       "==============================================================================\n",
       "                 coef    std err          t      P>|t|      [0.025      0.975]\n",
       "------------------------------------------------------------------------------\n",
       "Intercept   5565.3923     36.884    150.888      0.000    5493.050    5637.735\n",
       "weekend_X  -3305.8356     45.650    -72.418      0.000   -3395.369   -3216.302\n",
       "clouds_all    -1.1434      0.551     -2.075      0.038      -2.224      -0.063\n",
       "rain_1h        2.8906     30.257      0.096      0.924     -56.453      62.234\n",
       "snow_1h    -2.274e+04   7881.643     -2.886      0.004   -3.82e+04   -7285.168\n",
       "==============================================================================\n",
       "Omnibus:                      915.155   Durbin-Watson:                   1.280\n",
       "Prob(Omnibus):                  0.000   Jarque-Bera (JB):             6701.674\n",
       "Skew:                          -2.386   Prob(JB):                         0.00\n",
       "Kurtosis:                      11.337   Cond. No.                     2.26e+04\n",
       "==============================================================================\n",
       "\n",
       "Warnings:\n",
       "[1] Standard Errors assume that the covariance matrix of the errors is correctly specified.\n",
       "[2] The condition number is large, 2.26e+04. This might indicate that there are\n",
       "strong multicollinearity or other numerical problems.\n",
       "\"\"\""
      ]
     },
     "execution_count": 108,
     "metadata": {},
     "output_type": "execute_result"
    }
   ],
   "source": [
    "result.summary()"
   ]
  },
  {
   "cell_type": "code",
   "execution_count": 109,
   "metadata": {},
   "outputs": [],
   "source": [
    "result1=smf.ols(formula='traffic_volume ~ weekend_X+clouds_all+snow_1h',data=df_final).fit()"
   ]
  },
  {
   "cell_type": "code",
   "execution_count": 110,
   "metadata": {},
   "outputs": [
    {
     "data": {
      "text/html": [
       "<table class=\"simpletable\">\n",
       "<caption>OLS Regression Results</caption>\n",
       "<tr>\n",
       "  <th>Dep. Variable:</th>     <td>traffic_volume</td>  <th>  R-squared:         </th> <td>   0.752</td> \n",
       "</tr>\n",
       "<tr>\n",
       "  <th>Model:</th>                   <td>OLS</td>       <th>  Adj. R-squared:    </th> <td>   0.751</td> \n",
       "</tr>\n",
       "<tr>\n",
       "  <th>Method:</th>             <td>Least Squares</td>  <th>  F-statistic:       </th> <td>   1756.</td> \n",
       "</tr>\n",
       "<tr>\n",
       "  <th>Date:</th>             <td>Sat, 26 Oct 2019</td> <th>  Prob (F-statistic):</th>  <td>  0.00</td>  \n",
       "</tr>\n",
       "<tr>\n",
       "  <th>Time:</th>                 <td>15:46:15</td>     <th>  Log-Likelihood:    </th> <td> -14289.</td> \n",
       "</tr>\n",
       "<tr>\n",
       "  <th>No. Observations:</th>      <td>  1743</td>      <th>  AIC:               </th> <td>2.859e+04</td>\n",
       "</tr>\n",
       "<tr>\n",
       "  <th>Df Residuals:</th>          <td>  1739</td>      <th>  BIC:               </th> <td>2.861e+04</td>\n",
       "</tr>\n",
       "<tr>\n",
       "  <th>Df Model:</th>              <td>     3</td>      <th>                     </th>     <td> </td>    \n",
       "</tr>\n",
       "<tr>\n",
       "  <th>Covariance Type:</th>      <td>nonrobust</td>    <th>                     </th>     <td> </td>    \n",
       "</tr>\n",
       "</table>\n",
       "<table class=\"simpletable\">\n",
       "<tr>\n",
       "       <td></td>         <th>coef</th>     <th>std err</th>      <th>t</th>      <th>P>|t|</th>  <th>[0.025</th>    <th>0.975]</th>  \n",
       "</tr>\n",
       "<tr>\n",
       "  <th>Intercept</th>  <td> 5565.5133</td> <td>   36.852</td> <td>  151.023</td> <td> 0.000</td> <td> 5493.234</td> <td> 5637.792</td>\n",
       "</tr>\n",
       "<tr>\n",
       "  <th>weekend_X</th>  <td>-3305.9344</td> <td>   45.625</td> <td>  -72.459</td> <td> 0.000</td> <td>-3395.420</td> <td>-3216.449</td>\n",
       "</tr>\n",
       "<tr>\n",
       "  <th>clouds_all</th> <td>   -1.1405</td> <td>    0.550</td> <td>   -2.074</td> <td> 0.038</td> <td>   -2.219</td> <td>   -0.062</td>\n",
       "</tr>\n",
       "<tr>\n",
       "  <th>snow_1h</th>    <td>-2.275e+04</td> <td> 7879.296</td> <td>   -2.887</td> <td> 0.004</td> <td>-3.82e+04</td> <td>-7293.606</td>\n",
       "</tr>\n",
       "</table>\n",
       "<table class=\"simpletable\">\n",
       "<tr>\n",
       "  <th>Omnibus:</th>       <td>915.295</td> <th>  Durbin-Watson:     </th> <td>   1.280</td>\n",
       "</tr>\n",
       "<tr>\n",
       "  <th>Prob(Omnibus):</th> <td> 0.000</td>  <th>  Jarque-Bera (JB):  </th> <td>6704.893</td>\n",
       "</tr>\n",
       "<tr>\n",
       "  <th>Skew:</th>          <td>-2.386</td>  <th>  Prob(JB):          </th> <td>    0.00</td>\n",
       "</tr>\n",
       "<tr>\n",
       "  <th>Kurtosis:</th>      <td>11.339</td>  <th>  Cond. No.          </th> <td>2.26e+04</td>\n",
       "</tr>\n",
       "</table><br/><br/>Warnings:<br/>[1] Standard Errors assume that the covariance matrix of the errors is correctly specified.<br/>[2] The condition number is large, 2.26e+04. This might indicate that there are<br/>strong multicollinearity or other numerical problems."
      ],
      "text/plain": [
       "<class 'statsmodels.iolib.summary.Summary'>\n",
       "\"\"\"\n",
       "                            OLS Regression Results                            \n",
       "==============================================================================\n",
       "Dep. Variable:         traffic_volume   R-squared:                       0.752\n",
       "Model:                            OLS   Adj. R-squared:                  0.751\n",
       "Method:                 Least Squares   F-statistic:                     1756.\n",
       "Date:                Sat, 26 Oct 2019   Prob (F-statistic):               0.00\n",
       "Time:                        15:46:15   Log-Likelihood:                -14289.\n",
       "No. Observations:                1743   AIC:                         2.859e+04\n",
       "Df Residuals:                    1739   BIC:                         2.861e+04\n",
       "Df Model:                           3                                         \n",
       "Covariance Type:            nonrobust                                         \n",
       "==============================================================================\n",
       "                 coef    std err          t      P>|t|      [0.025      0.975]\n",
       "------------------------------------------------------------------------------\n",
       "Intercept   5565.5133     36.852    151.023      0.000    5493.234    5637.792\n",
       "weekend_X  -3305.9344     45.625    -72.459      0.000   -3395.420   -3216.449\n",
       "clouds_all    -1.1405      0.550     -2.074      0.038      -2.219      -0.062\n",
       "snow_1h    -2.275e+04   7879.296     -2.887      0.004   -3.82e+04   -7293.606\n",
       "==============================================================================\n",
       "Omnibus:                      915.295   Durbin-Watson:                   1.280\n",
       "Prob(Omnibus):                  0.000   Jarque-Bera (JB):             6704.893\n",
       "Skew:                          -2.386   Prob(JB):                         0.00\n",
       "Kurtosis:                      11.339   Cond. No.                     2.26e+04\n",
       "==============================================================================\n",
       "\n",
       "Warnings:\n",
       "[1] Standard Errors assume that the covariance matrix of the errors is correctly specified.\n",
       "[2] The condition number is large, 2.26e+04. This might indicate that there are\n",
       "strong multicollinearity or other numerical problems.\n",
       "\"\"\""
      ]
     },
     "execution_count": 110,
     "metadata": {},
     "output_type": "execute_result"
    }
   ],
   "source": [
    "result1.summary()"
   ]
  },
  {
   "cell_type": "code",
   "execution_count": 112,
   "metadata": {},
   "outputs": [
    {
     "data": {
      "text/plain": [
       "949.1664413077239"
      ]
     },
     "execution_count": 112,
     "metadata": {},
     "output_type": "execute_result"
    }
   ],
   "source": [
    "import numpy as np\n",
    "from sklearn import metrics\n",
    "np.sqrt(metrics.mean_squared_error(y_test,y_pred))\n",
    "#metrics.mean_absolute_error (y_test, y_pred )"
   ]
  },
  {
   "cell_type": "markdown",
   "metadata": {},
   "source": [
    "# np.sqrt(metrics.mean_squared_error(y_test1,y_pred1))\n",
    "metrics.mean_absolute_error (y_test1,y_pred1)"
   ]
  },
  {
   "cell_type": "code",
   "execution_count": 113,
   "metadata": {},
   "outputs": [
    {
     "name": "stdout",
     "output_type": "stream",
     "text": [
      "949.1664413077239 949.1714287956107\n"
     ]
    }
   ],
   "source": [
    "#np.sqrt(metrics.mean_squared_error(y_test1,y_pred1))\n",
    "print(np.sqrt(metrics.mean_squared_error(y_test,y_pred)),np.sqrt(metrics.mean_squared_error(y_test1,y_pred1)))"
   ]
  },
  {
   "cell_type": "code",
   "execution_count": 188,
   "metadata": {},
   "outputs": [],
   "source": [
    "X_new1=pd.DataFrame({'weekend_X':[1],'clouds_all':[75],'rain_1h':[0],'snow_1h':[0]})\n",
    "#lm1.predict(X_new1)"
   ]
  },
  {
   "cell_type": "code",
   "execution_count": 189,
   "metadata": {},
   "outputs": [
    {
     "data": {
      "text/plain": [
       "array([2180.30526281])"
      ]
     },
     "execution_count": 189,
     "metadata": {},
     "output_type": "execute_result"
    }
   ],
   "source": [
    "lm1.predict(X_new1)"
   ]
  },
  {
   "cell_type": "code",
   "execution_count": 169,
   "metadata": {},
   "outputs": [],
   "source": [
    "X_new2=pd.DataFrame({'weekend_X':[0],'clouds_all':[0],'snow_1h':[0]})\n"
   ]
  },
  {
   "cell_type": "code",
   "execution_count": 170,
   "metadata": {},
   "outputs": [
    {
     "data": {
      "text/plain": [
       "array([3405.93640517])"
      ]
     },
     "execution_count": 170,
     "metadata": {},
     "output_type": "execute_result"
    }
   ],
   "source": [
    "lm2.predict(X_new2)"
   ]
  },
  {
   "cell_type": "code",
   "execution_count": 16,
   "metadata": {},
   "outputs": [
    {
     "data": {
      "text/plain": [
       "array([2167.1268103 , 5559.84847483, 5480.77775976, 2167.1268103 ,\n",
       "       2245.31896187, 5542.27720482, 5558.96991133, 5493.95621227,\n",
       "       2180.30526281, 2180.30526281, 2246.19752537, 2167.1268103 ,\n",
       "       2246.19752537, 2228.62625535, 5559.84847483, 5517.67742679,\n",
       "       5559.51956449, 2204.02647733, 5558.96991133, 5480.77775976,\n",
       "       2246.19752537, 2246.19752537, 5480.77775976, 2211.05498534,\n",
       "       5480.77775976, 2245.31896187, 2211.05498534, 2245.31896187,\n",
       "       5480.77775976, 5480.77775976, 5480.77775976, 5480.77775976,\n",
       "       5558.96991133, 5558.96991133, 5480.77775976, 5558.96991133,\n",
       "       5480.77775976, 2167.1268103 , 5542.27720482, 5480.77775976,\n",
       "       5558.96991133, 2189.96946132, 2189.96946132, 2167.1268103 ,\n",
       "       5555.45565733, 2189.96946132, 5558.96991133, 5542.27720482,\n",
       "       2245.31896187, 5480.77775976, 5503.62041078, 5493.95621227,\n",
       "       2228.62625535, 2167.1268103 , 5558.96991133, 5480.77775976,\n",
       "       5480.77775976, 2180.30526281, 5559.84847483, 5493.95621227,\n",
       "       5479.02063276, 5524.7059348 , 5480.77775976, 5558.96991133,\n",
       "       5493.95621227, 5495.29736598, 5559.84847483, 5480.77775976,\n",
       "       5480.77775976, 2186.45520732, 5480.77775976, 5503.62041078,\n",
       "       2241.80470787, 5489.56339477, 5481.8990522 , 5558.96991133,\n",
       "       2246.19752537, 5493.95621227, 5558.96991133, 5480.77775976,\n",
       "       5549.30571282, 5480.77775976, 5480.77775976, 5510.64891879,\n",
       "       5480.77775976, 5524.7059348 , 5493.95621227, 5558.96991133,\n",
       "       5480.77775976, 5558.96991133, 5493.95621227, 5480.77775976,\n",
       "       5493.95621227, 2189.96946132, 5480.77775976, 5559.84847483,\n",
       "       5542.27720482, 5555.45565733, 5558.96991133, 5493.95621227,\n",
       "       2193.48371532, 5479.57028592, 5493.95621227, 5558.96991133,\n",
       "       2245.31896187, 5524.7059348 , 5481.74514932, 5558.96991133,\n",
       "       5555.45565733, 2245.31896187, 2167.1268103 , 5471.99212475,\n",
       "       5480.77775976, 5542.27720482, 2167.1268103 , 5480.77775976,\n",
       "       5559.84847483, 5558.96991133, 2165.3696833 , 5559.84847483,\n",
       "       2167.78639409, 5481.8990522 ,  909.64870416, 5555.45565733,\n",
       "       5560.42099567, 5524.7059348 , 5524.7059348 , 5555.45565733,\n",
       "       5555.45565733, 5558.96991133, 5503.62041078, 5558.96991133,\n",
       "       5498.9910352 , 2241.80470787, 2167.1268103 , 5524.7059348 ,\n",
       "       5480.77775976, 5493.95621227, 5485.2409434 , 2207.54073133,\n",
       "       2245.31896187, 5472.87068825, 5480.77775976, 5480.77775976,\n",
       "       2211.05498534, 5549.30571282, 5555.45565733, 5558.96991133,\n",
       "       2228.62625535, 5558.96991133, 5549.30571282, 2180.30526281,\n",
       "       5559.84847483, 5542.27720482, 2167.1268103 , 2173.34712094,\n",
       "       5524.7059348 , 5542.27720482, 5538.76295081, 2245.31896187,\n",
       "       2245.31896187, 5482.62459437, 5480.77775976, 5480.77775976,\n",
       "       5517.67742679, 5558.96991133, 2167.1268103 , 2241.80470787,\n",
       "       5480.77775976, 2235.65476336, 2189.96946132, 5524.7059348 ,\n",
       "       2180.30526281, 5493.07764877, 5480.77775976, 5555.45565733,\n",
       "       5542.27720482, 2245.31896187, 5493.95621227, 5524.7059348 ,\n",
       "       2245.31896187, 5493.95621227, 2245.31896187, 5480.77775976,\n",
       "       2167.1268103 , 5480.77775976, 5558.96991133, 2211.05498534,\n",
       "       2245.97854566, 2180.30526281, 2245.31896187, 5493.95621227,\n",
       "       5493.95621227, 5480.77775976, 5480.77775976, 5480.77775976,\n",
       "       5493.95621227, 5555.45565733, 5480.77775976, 2167.1268103 ,\n",
       "       5558.96991133, 2246.19752537, 5493.95621227, 2241.80470787,\n",
       "       2245.31896187, 5559.84847483, 5493.95621227, 5480.77775976,\n",
       "       5542.27720482, 5558.96991133, 5480.77775976, 2211.05498534,\n",
       "       5480.77775976, 2245.31896187, 2158.34117529, 5558.96991133,\n",
       "       2245.31896187, 5558.96991133, 2228.62625535, 5503.62041078,\n",
       "       5559.84847483, 5493.95621227, 5558.96991133, 5480.77775976,\n",
       "       5493.95621227, 5524.7059348 , 2167.1268103 , 5480.77775976,\n",
       "       5493.95621227, 5558.96991133, 2180.30526281, 2167.1268103 ,\n",
       "       2246.19752537, 5542.27720482, 5558.96991133, 5480.77775976,\n",
       "       5558.96991133, 5505.86299566, 2189.96946132, 5559.84847483,\n",
       "       5480.77775976, 5524.7059348 , 5503.62041078, 5480.77775976,\n",
       "       5493.95621227, 5480.77775976, 5558.96991133, 5482.33877473,\n",
       "       5480.77775976, 2245.31896187, 5480.77775976, 5480.77775976,\n",
       "       5481.8990522 , 5480.77775976, 5480.77775976, 2245.31896187,\n",
       "       5480.77775976, 5558.96991133, 2189.96946132, 2241.80470787,\n",
       "       2180.30526281, 5542.27720482, 5555.45565733, 2241.80470787,\n",
       "       5480.77775976, 2180.30526281, 5480.77775976, 2180.30526281,\n",
       "       5480.77775976, 2180.30526281, 5524.7059348 , 5480.77775976,\n",
       "       5524.7059348 , 5517.67742679, 2167.1268103 , 5481.32741292,\n",
       "       5493.95621227, 2167.1268103 , 5558.96991133, 5480.77775976,\n",
       "       2180.30526281, 2167.67646346, 5480.77775976, 2245.31896187,\n",
       "       5555.45565733, 5558.96991133, 5558.96991133, 5480.77775976,\n",
       "       5489.56339477, 2211.05498534, 5480.77775976, 5542.27720482,\n",
       "       5480.77775976, 2167.1268103 , 5558.96991133, 5480.77775976,\n",
       "       5480.77775976, 5555.45565733, 5503.62041078, 5493.95621227,\n",
       "       2167.1268103 , 2245.31896187, 5558.96991133, 5558.96991133,\n",
       "       5524.7059348 , 5558.96991133, 2195.24084232, 5480.77775976,\n",
       "       5559.84847483, 2210.46488613, 5493.95621227, 5493.95621227,\n",
       "       5480.77775976, 2246.19752537, 2189.96946132, 5542.27720482,\n",
       "       5483.19447055, 2167.1268103 , 2180.30526281, 5524.7059348 ,\n",
       "       5480.77775976, 5481.61323256, 5480.77775976, 5493.95621227,\n",
       "       2211.05498534, 2180.30526281, 5480.77775976, 2225.11200135,\n",
       "       5493.95621227, 2245.31896187, 2167.1268103 , 2167.1268103 ,\n",
       "       5558.96991133, 5493.95621227, 2245.31896187, 5558.96991133,\n",
       "       5480.77775976, 5555.45565733, 5542.27720482, 5493.95621227,\n",
       "       5480.77775976, 5480.77775976, 5480.77775976, 2245.31896187,\n",
       "       5510.64891879, 2228.62625535, 2211.05498534, 5555.45565733,\n",
       "       5558.96991133])"
      ]
     },
     "execution_count": 16,
     "metadata": {},
     "output_type": "execute_result"
    }
   ],
   "source": [
    "y_pred"
   ]
  },
  {
   "cell_type": "code",
   "execution_count": 18,
   "metadata": {},
   "outputs": [
    {
     "data": {
      "text/plain": [
       "(0.8480957594077554, 9.585308726708916e-98)"
      ]
     },
     "execution_count": 18,
     "metadata": {},
     "output_type": "execute_result"
    }
   ],
   "source": [
    "from scipy import stats\n",
    "stats.pearsonr(y_test,y_pred)"
   ]
  },
  {
   "cell_type": "code",
   "execution_count": 24,
   "metadata": {},
   "outputs": [
    {
     "data": {
      "text/plain": [
       "600.0832057757794"
      ]
     },
     "execution_count": 24,
     "metadata": {},
     "output_type": "execute_result"
    }
   ],
   "source": [
    "import numpy as np\n",
    "metrics . mean_absolute_error ( y_test , y_pred)"
   ]
  },
  {
   "cell_type": "code",
   "execution_count": 27,
   "metadata": {},
   "outputs": [
    {
     "data": {
      "text/plain": [
       "<matplotlib.collections.PathCollection at 0x22821ac8dc8>"
      ]
     },
     "execution_count": 27,
     "metadata": {},
     "output_type": "execute_result"
    },
    {
     "data": {
      "image/png": "[encoded data removed]",
      "text/plain": [
       "<Figure size 432x288 with 1 Axes>"
      ]
     },
     "metadata": {
      "needs_background": "light"
     },
     "output_type": "display_data"
    }
   ],
   "source": [
    "plt.scatter(y_test,y_pred1)"
   ]
  },
  {
   "cell_type": "code",
   "execution_count": 44,
   "metadata": {},
   "outputs": [
    {
     "data": {
      "text/plain": [
       "(0.022761441740117037, 0.3422573551077751)"
      ]
     },
     "execution_count": 44,
     "metadata": {},
     "output_type": "execute_result"
    }
   ],
   "source": [
    "stats.pearsonr(df_final['rain_1h'],df_final['traffic_volume'])"
   ]
  },
  {
   "cell_type": "code",
   "execution_count": 45,
   "metadata": {},
   "outputs": [
    {
     "data": {
      "text/plain": [
       "(-0.03650620740438209, 0.1276283420487802)"
      ]
     },
     "execution_count": 45,
     "metadata": {},
     "output_type": "execute_result"
    }
   ],
   "source": [
    "stats.pearsonr(df_final['snow_1h'],df_final['traffic_volume'])"
   ]
  },
  {
   "cell_type": "code",
   "execution_count": 46,
   "metadata": {},
   "outputs": [
    {
     "data": {
      "text/plain": [
       "(0.08275600658812887, 0.0005432804838528075)"
      ]
     },
     "execution_count": 46,
     "metadata": {},
     "output_type": "execute_result"
    }
   ],
   "source": [
    "stats.pearsonr(df_final['temp'],df_final['traffic_volume'])"
   ]
  },
  {
   "cell_type": "code",
   "execution_count": 49,
   "metadata": {},
   "outputs": [
    {
     "data": {
      "text/plain": [
       "(0.03278302035205609, 0.17129567609025836)"
      ]
     },
     "execution_count": 49,
     "metadata": {},
     "output_type": "execute_result"
    }
   ],
   "source": [
    "stats.pearsonr(df_final['clouds_all'],df_final['traffic_volume'])"
   ]
  },
  {
   "cell_type": "code",
   "execution_count": 50,
   "metadata": {},
   "outputs": [
    {
     "data": {
      "text/plain": [
       "(-0.8659997470843454, 0.0)"
      ]
     },
     "execution_count": 50,
     "metadata": {},
     "output_type": "execute_result"
    }
   ],
   "source": [
    "stats.pearsonr(df_final['weekend_X'],df_final['traffic_volume'])"
   ]
  },
  {
   "cell_type": "code",
   "execution_count": null,
   "metadata": {},
   "outputs": [],
   "source": []
  }
 ],
 "metadata": {
  "kernelspec": {
   "display_name": "Python 3",
   "language": "python",
   "name": "python3"
  },
  "language_info": {
   "codemirror_mode": {
    "name": "ipython",
    "version": 3
   },
   "file_extension": ".py",
   "mimetype": "text/x-python",
   "name": "python",
   "nbconvert_exporter": "python",
   "pygments_lexer": "ipython3",
   "version": "3.7.4"
  }
 },
 "nbformat": 4,
 "nbformat_minor": 2
}
