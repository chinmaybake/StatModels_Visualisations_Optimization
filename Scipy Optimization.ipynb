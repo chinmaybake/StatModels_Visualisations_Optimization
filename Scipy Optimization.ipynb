{
 "cells": [
  {
   "cell_type": "code",
   "execution_count": 10,
   "metadata": {},
   "outputs": [
    {
     "name": "stdout",
     "output_type": "stream",
     "text": [
      "     fun: -71074.9726817297\n",
      "     jac: array([   0.        ,    0.        ,    0.        ,  128.53222656,\n",
      "         97.74609375,  150.        ,  150.        , -526.27929688])\n",
      " message: 'Optimization terminated successfully.'\n",
      "    nfev: 101\n",
      "     nit: 8\n",
      "    njev: 7\n",
      "  status: 0\n",
      " success: True\n",
      "       x: array([ 1.09687752e-01,  9.99999998e-01,  1.00000000e+00, -5.70655725e+01,\n",
      "        4.50784626e+00, -1.00000000e+02, -1.00000000e+02,  2.00000000e+02])\n"
     ]
    }
   ],
   "source": [
    "import numpy as np\n",
    "from scipy.optimize import minimize\n",
    "\n",
    "def objective ( x ) :\n",
    "    return -1/4*(( x [3] - x [7]) **2 + ( x [4] - x [7]) **2 + ( x [5] - x [7]) **2 +( x [6] - x [7]) **2)\n",
    "\n",
    "def constraint1 ( x ) :\n",
    "    return -39.8* x [0] - 42.5* x [1] - 10.2* x [2] - x [3]\n",
    "\n",
    "def constraint2 ( x ) :\n",
    "    return 10.10* x [0] + 13.60* x [1] - 10.2* x [2] - x [4]\n",
    "\n",
    "def constraint3 ( x ) :\n",
    "    return 124.90* x [0] + 56.90* x [1] - 170.60* x [2] - x [5]\n",
    "\n",
    "def constraint4 ( x ) :\n",
    "    return 151.80* x [0] + 36.70* x [1] - 16.60* x [2] - x [6]\n",
    "\n",
    "def constraint5 ( x ) :\n",
    "     return 0.35*( x [3]  + x [4] + x [5] + x [6]) /4 - x [7] \n",
    "\n",
    "def constraint6(x):\n",
    "    return x[0]+x[1]+x[2]-1\n",
    "\n",
    "b1 = (0.0 ,1.0)\n",
    "b2 = ( -100.0 , 200.0)\n",
    "b3 = (35.0 , 200.0)\n",
    "bnds = ( b1 , b1 , b1 , b2 , b2 , b2 , b2 , b3 )\n",
    "n = 8\n",
    "x0 = np.zeros(n)\n",
    "\n",
    "con1 = {'type': 'eq', 'fun': constraint1 }\n",
    "con2 = {'type': 'eq', 'fun': constraint2 }\n",
    "con3 = {'type': 'eq', 'fun': constraint3 }\n",
    "con4 = {'type': 'eq', 'fun': constraint4 }\n",
    "con5 = {'type': 'eq', 'fun': constraint5 }\n",
    "con6 = {'type': 'eq', 'fun': constraint6 }\n",
    "cons= ([ con1 , con2 , con3 ])\n",
    "solution = minimize ( objective ,x0 , bounds = bnds , constraints = cons )\n",
    "print ( solution )\n",
    "\n",
    "\n",
    "\n",
    "\n"
   ]
  },
  {
   "cell_type": "code",
   "execution_count": 12,
   "metadata": {},
   "outputs": [
    {
     "name": "stdout",
     "output_type": "stream",
     "text": [
      "     fun: -280.7999999681583\n",
      "     jac: array([ 0.  ,  0.  ,  0.  , -0.25, -0.25, -0.25, -0.25, -1.  ])\n",
      " message: 'Optimization terminated successfully.'\n",
      "    nfev: 180\n",
      "     nit: 18\n",
      "    njev: 18\n",
      "  status: 0\n",
      " success: True\n",
      "       x: array([ 1.00000000e+00,  1.00000000e+00,  1.90411664e-14, -8.23000000e+01,\n",
      "        2.37000001e+01,  1.81800000e+02,  2.00000000e+02,  2.00000000e+02])\n"
     ]
    }
   ],
   "source": [
    "import numpy as np\n",
    "from scipy.optimize import minimize\n",
    "\n",
    "def objective ( x ) :\n",
    "    return -( x [3]  + x [4] + x [5] + x [6]) /4 - x [7]\n",
    "\n",
    "def constraint1 ( x ) :\n",
    "    return -39.8* x [0] - 42.5* x [1] - 10.2* x [2] - x [3]\n",
    "\n",
    "def constraint2 ( x ) :\n",
    "    return 10.10* x [0] + 13.60* x [1] - 10.2* x [2] - x [4]\n",
    "\n",
    "def constraint3 ( x ) :\n",
    "    return 124.90* x [0] + 56.90* x [1] - 170.60* x [2] - x [5]\n",
    "\n",
    "def constraint4 ( x ) :\n",
    "    return 151.80* x [0] + 36.70* x [1] - 16.60* x [2] - x [6]\n",
    "\n",
    "def constraint5 ( x ) :\n",
    "    return 1/4*(( x [3] - x [7]) **2 + ( x [4] - x [7]) **2 + ( x [5] - x [7]) **2 +( x [6] - x [7]) **2)-1500\n",
    "      \n",
    "def constraint6(x):\n",
    "    return x[0]+x[1]+x[2]-1\n",
    "\n",
    "b1 = (0.0 ,1.0)\n",
    "b2 = ( -100.0 , 200.0)\n",
    "b3 = (35.0 , 200.0)\n",
    "bnds = ( b1 , b1 , b1 , b2 , b2 , b2 , b2 , b3 )\n",
    "n = 8\n",
    "x0 = np.zeros(n)\n",
    "\n",
    "con1 = {'type': 'eq', 'fun': constraint1 }\n",
    "con2 = {'type': 'eq', 'fun': constraint2 }\n",
    "con3 = {'type': 'eq', 'fun': constraint3 }\n",
    "con4 = {'type': 'eq', 'fun': constraint4 }\n",
    "con5 = {'type': 'eq', 'fun': constraint5 }\n",
    "con6 = {'type': 'eq', 'fun': constraint6 }\n",
    "cons= ([ con1 , con2 , con3 ])\n",
    "solution = minimize ( objective ,x0 , bounds = bnds , constraints = cons )\n",
    "print ( solution )\n"
   ]
  },
  {
   "cell_type": "code",
   "execution_count": null,
   "metadata": {},
   "outputs": [],
   "source": []
  }
 ],
 "metadata": {
  "kernelspec": {
   "display_name": "Python 3",
   "language": "python",
   "name": "python3"
  },
  "language_info": {
   "codemirror_mode": {
    "name": "ipython",
    "version": 3
   },
   "file_extension": ".py",
   "mimetype": "text/x-python",
   "name": "python",
   "nbconvert_exporter": "python",
   "pygments_lexer": "ipython3",
   "version": "3.7.4"
  }
 },
 "nbformat": 4,
 "nbformat_minor": 2
}
