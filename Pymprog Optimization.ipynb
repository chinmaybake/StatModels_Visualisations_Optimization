{
 "cells": [
  {
   "cell_type": "code",
   "execution_count": 1,
   "metadata": {},
   "outputs": [],
   "source": [
    "from matplotlib import pyplot as plt"
   ]
  },
  {
   "cell_type": "code",
   "execution_count": 7,
   "metadata": {},
   "outputs": [
    {
     "data": {
      "image/png": "[encoded data removed]",
      "text/plain": [
       "<Figure size 432x288 with 1 Axes>"
      ]
     },
     "metadata": {
      "needs_background": "light"
     },
     "output_type": "display_data"
    }
   ],
   "source": [
    "x = [0, 1, 2, 3, 4]\n",
    "y= [0, 3, 1, 5, 2] \n",
    "plt.plot(x, y, marker='o',linewidth = 0.9 ,color='r')\n",
    "\n",
    "plt.title('Sales by Year')\n",
    "plt.xlabel('Year')\n",
    "plt.ylabel('Sales')\n",
    "plt.show()"
   ]
  },
  {
   "cell_type": "code",
   "execution_count": 14,
   "metadata": {},
   "outputs": [
    {
     "data": {
      "image/png": "[encoded data removed]",
      "text/plain": [
       "<Figure size 432x288 with 1 Axes>"
      ]
     },
     "metadata": {
      "needs_background": "light"
     },
     "output_type": "display_data"
    }
   ],
   "source": [
    "plt.bar(x,y,color='y')\n",
    "plt.xticks(x,(10,20,30,40,50))\n",
    "plt.yticks(x,(10,20,30,40,50))\n",
    "plt.title('Bar Chart')\n",
    "plt.xlabel('Level1')\n",
    "plt.ylabel('Level2')\n",
    "plt.show()"
   ]
  },
  {
   "cell_type": "code",
   "execution_count": 23,
   "metadata": {},
   "outputs": [
    {
     "data": {
      "image/png": "[encoded data removed]",
      "text/plain": [
       "<Figure size 432x288 with 1 Axes>"
      ]
     },
     "metadata": {},
     "output_type": "display_data"
    }
   ],
   "source": [
    "sales = [100, 400, 300, 600],\n",
    "plt.pie([20, 60, 80, 40], labels=['Q1','Q2','Q3','Q4'],explode=(0,0.2,0,0),colors=('r','y','m','b'),autopct='%1.1f%%',shadow=False, startangle=185)\n",
    "plt.title('pie chart')\n",
    "plt.show()\n"
   ]
  },
  {
   "cell_type": "code",
   "execution_count": 4,
   "metadata": {},
   "outputs": [],
   "source": [
    "import pandas as pd"
   ]
  },
  {
   "cell_type": "code",
   "execution_count": 5,
   "metadata": {},
   "outputs": [],
   "source": [
    "lst=[['Jan',33,19,54,36],['Feb',37,22,59,30],['mar',44,28,67,37],['apr',56,38,76,46],['May',67,47,83,56],['sep',71,53,84,59],['oct',60,42,75,48],['nov',50,35,63,36],['dec',38,24,55,76]]"
   ]
  },
  {
   "cell_type": "code",
   "execution_count": 6,
   "metadata": {},
   "outputs": [],
   "source": [
    "df = pd.DataFrame(lst, columns =['Month', 'CityA-High', 'CityA-low','CityB_High','CityB_Low'], dtype = float) "
   ]
  },
  {
   "cell_type": "code",
   "execution_count": 7,
   "metadata": {},
   "outputs": [
    {
     "data": {
      "text/html": [
       "<div>\n",
       "<style scoped>\n",
       "    .dataframe tbody tr th:only-of-type {\n",
       "        vertical-align: middle;\n",
       "    }\n",
       "\n",
       "    .dataframe tbody tr th {\n",
       "        vertical-align: top;\n",
       "    }\n",
       "\n",
       "    .dataframe thead th {\n",
       "        text-align: right;\n",
       "    }\n",
       "</style>\n",
       "<table border=\"1\" class=\"dataframe\">\n",
       "  <thead>\n",
       "    <tr style=\"text-align: right;\">\n",
       "      <th></th>\n",
       "      <th>Month</th>\n",
       "      <th>CityA-High</th>\n",
       "      <th>CityA-low</th>\n",
       "      <th>CityB_High</th>\n",
       "      <th>CityB_Low</th>\n",
       "    </tr>\n",
       "  </thead>\n",
       "  <tbody>\n",
       "    <tr>\n",
       "      <td>0</td>\n",
       "      <td>Jan</td>\n",
       "      <td>33.0</td>\n",
       "      <td>19.0</td>\n",
       "      <td>54.0</td>\n",
       "      <td>36.0</td>\n",
       "    </tr>\n",
       "    <tr>\n",
       "      <td>1</td>\n",
       "      <td>Feb</td>\n",
       "      <td>37.0</td>\n",
       "      <td>22.0</td>\n",
       "      <td>59.0</td>\n",
       "      <td>30.0</td>\n",
       "    </tr>\n",
       "    <tr>\n",
       "      <td>2</td>\n",
       "      <td>mar</td>\n",
       "      <td>44.0</td>\n",
       "      <td>28.0</td>\n",
       "      <td>67.0</td>\n",
       "      <td>37.0</td>\n",
       "    </tr>\n",
       "    <tr>\n",
       "      <td>3</td>\n",
       "      <td>apr</td>\n",
       "      <td>56.0</td>\n",
       "      <td>38.0</td>\n",
       "      <td>76.0</td>\n",
       "      <td>46.0</td>\n",
       "    </tr>\n",
       "    <tr>\n",
       "      <td>4</td>\n",
       "      <td>May</td>\n",
       "      <td>67.0</td>\n",
       "      <td>47.0</td>\n",
       "      <td>83.0</td>\n",
       "      <td>56.0</td>\n",
       "    </tr>\n",
       "    <tr>\n",
       "      <td>5</td>\n",
       "      <td>sep</td>\n",
       "      <td>71.0</td>\n",
       "      <td>53.0</td>\n",
       "      <td>84.0</td>\n",
       "      <td>59.0</td>\n",
       "    </tr>\n",
       "    <tr>\n",
       "      <td>6</td>\n",
       "      <td>oct</td>\n",
       "      <td>60.0</td>\n",
       "      <td>42.0</td>\n",
       "      <td>75.0</td>\n",
       "      <td>48.0</td>\n",
       "    </tr>\n",
       "    <tr>\n",
       "      <td>7</td>\n",
       "      <td>nov</td>\n",
       "      <td>50.0</td>\n",
       "      <td>35.0</td>\n",
       "      <td>63.0</td>\n",
       "      <td>36.0</td>\n",
       "    </tr>\n",
       "    <tr>\n",
       "      <td>8</td>\n",
       "      <td>dec</td>\n",
       "      <td>38.0</td>\n",
       "      <td>24.0</td>\n",
       "      <td>55.0</td>\n",
       "      <td>76.0</td>\n",
       "    </tr>\n",
       "  </tbody>\n",
       "</table>\n",
       "</div>"
      ],
      "text/plain": [
       "  Month  CityA-High  CityA-low  CityB_High  CityB_Low\n",
       "0   Jan        33.0       19.0        54.0       36.0\n",
       "1   Feb        37.0       22.0        59.0       30.0\n",
       "2   mar        44.0       28.0        67.0       37.0\n",
       "3   apr        56.0       38.0        76.0       46.0\n",
       "4   May        67.0       47.0        83.0       56.0\n",
       "5   sep        71.0       53.0        84.0       59.0\n",
       "6   oct        60.0       42.0        75.0       48.0\n",
       "7   nov        50.0       35.0        63.0       36.0\n",
       "8   dec        38.0       24.0        55.0       76.0"
      ]
     },
     "execution_count": 7,
     "metadata": {},
     "output_type": "execute_result"
    }
   ],
   "source": [
    "df"
   ]
  },
  {
   "cell_type": "code",
   "execution_count": 49,
   "metadata": {},
   "outputs": [
    {
     "data": {
      "image/png": "[encoded data removed]",
      "text/plain": [
       "<Figure size 1440x1800 with 4 Axes>"
      ]
     },
     "metadata": {
      "needs_background": "light"
     },
     "output_type": "display_data"
    }
   ],
   "source": [
    "plt.figure(figsize=(20,25))\n",
    "plt.subplot(2,2,1)\n",
    "plt.plot(df['Month'],df['CityA-High'],label='High Temp')\n",
    "plt.plot(df['Month'],df['CityA-low'],label='Low Temp')\n",
    "plt.title('Change')\n",
    "plt.ylabel('City_A')\n",
    "plt.xlabel('Month')\n",
    "plt.legend(loc='best')\n",
    "\n",
    "plt.subplot(2,2,2)\n",
    "plt.plot(df['Month'],df['CityB_High'],label='High Temp')\n",
    "plt.plot(df['Month'],df['CityB_Low'],label='Low Temp')\n",
    "plt.title('Change')\n",
    "plt.ylabel('City_B')\n",
    "plt.xlabel('Month')\n",
    "plt.legend(loc='best')\n",
    "\n",
    "plt.subplot(2,2,3)\n",
    "plt.bar(df['CityA-low'],df['CityA-High'])\n",
    "plt.bar(df['CityB_Low'],df['CityB_High'])\n",
    "\n",
    "plt.subplot(2,2,4)\n",
    "plt.scatter(df['CityA-low'],df['CityA-High'])\n",
    "plt.scatter(df['CityB_Low'],df['CityB_High'])\n",
    "plt.show()\n"
   ]
  },
  {
   "cell_type": "code",
   "execution_count": 38,
   "metadata": {},
   "outputs": [
    {
     "data": {
      "text/plain": [
       "<function matplotlib.pyplot.show(*args, **kw)>"
      ]
     },
     "execution_count": 38,
     "metadata": {},
     "output_type": "execute_result"
    },
    {
     "data": {
      "image/png": "[encoded data removed]",
      "text/plain": [
       "<Figure size 432x288 with 1 Axes>"
      ]
     },
     "metadata": {
      "needs_background": "light"
     },
     "output_type": "display_data"
    }
   ],
   "source": [
    "plt.plot(df['Month'],df['CityB_High'],label='High Temp')\n",
    "plt.plot(df['Month'],df['CityB_Low'],label='Low Temp')\n",
    "plt.title('Change')\n",
    "plt.ylabel('City_B')\n",
    "plt.xlabel('Month')\n",
    "plt.legend(loc='best')\n",
    "plt.show"
   ]
  },
  {
   "cell_type": "code",
   "execution_count": 41,
   "metadata": {},
   "outputs": [
    {
     "data": {
      "image/png": "[encoded data removed]",
      "text/plain": [
       "<Figure size 432x288 with 1 Axes>"
      ]
     },
     "metadata": {
      "needs_background": "light"
     },
     "output_type": "display_data"
    }
   ],
   "source": [
    "plt.bar(df['CityA-low'],df['CityA-High'])\n",
    "plt.bar(df['CityB_Low'],df['CityB_High'])\n",
    "plt.show()"
   ]
  },
  {
   "cell_type": "code",
   "execution_count": 43,
   "metadata": {},
   "outputs": [
    {
     "data": {
      "image/png": "[encoded data removed]",
      "text/plain": [
       "<Figure size 432x288 with 1 Axes>"
      ]
     },
     "metadata": {
      "needs_background": "light"
     },
     "output_type": "display_data"
    }
   ],
   "source": [
    "plt.scatter(df['CityA-low'],df['CityA-High'])\n",
    "plt.scatter(df['CityB_Low'],df['CityB_High'])\n",
    "plt.show()"
   ]
  },
  {
   "cell_type": "code",
   "execution_count": 50,
   "metadata": {},
   "outputs": [],
   "source": [
    "CIS5357_mean = [90, 55, 40, 65]\n",
    "CIS5560_mean = [85, 62, 54, 20]\n",
    "CIS5357_std = [4, 3, 4, 1]\n",
    "CIS5560_std = [3, 5, 2, 3]\n"
   ]
  },
  {
   "cell_type": "code",
   "execution_count": 51,
   "metadata": {},
   "outputs": [],
   "source": [
    "import numpy as np\n"
   ]
  },
  {
   "cell_type": "code",
   "execution_count": 52,
   "metadata": {},
   "outputs": [],
   "source": [
    "index=np.arange(4)"
   ]
  },
  {
   "cell_type": "code",
   "execution_count": 53,
   "metadata": {},
   "outputs": [
    {
     "data": {
      "text/plain": [
       "array([0, 1, 2, 3])"
      ]
     },
     "execution_count": 53,
     "metadata": {},
     "output_type": "execute_result"
    }
   ],
   "source": [
    "index"
   ]
  },
  {
   "cell_type": "code",
   "execution_count": 59,
   "metadata": {},
   "outputs": [
    {
     "data": {
      "text/plain": [
       "Text(0, 0.5, 'Mean')"
      ]
     },
     "execution_count": 59,
     "metadata": {},
     "output_type": "execute_result"
    },
    {
     "data": {
      "image/png": "[encoded data removed]",
      "text/plain": [
       "<Figure size 432x288 with 1 Axes>"
      ]
     },
     "metadata": {
      "needs_background": "light"
     },
     "output_type": "display_data"
    }
   ],
   "source": [
    "width=0.45\n",
    "p1=plt.bar(index,CIS5357_mean,width)\n",
    "p2=plt.bar(index+width,CIS5560_mean,width)\n",
    "plt.xticks(index+width,('X','Y','Z','S'))\n",
    "plt.title('Comparison')\n",
    "plt.xlabel('Students')\n",
    "plt.ylabel('Mean')\n",
    "#plt.legend(p1[0],p2[0],)"
   ]
  },
  {
   "cell_type": "code",
   "execution_count": 60,
   "metadata": {},
   "outputs": [
    {
     "data": {
      "text/plain": [
       "Text(0, 0.5, 'Mean')"
      ]
     },
     "execution_count": 60,
     "metadata": {},
     "output_type": "execute_result"
    },
    {
     "data": {
      "image/png": "[encoded data removed]",
      "text/plain": [
       "<Figure size 432x288 with 1 Axes>"
      ]
     },
     "metadata": {
      "needs_background": "light"
     },
     "output_type": "display_data"
    }
   ],
   "source": [
    "width=0.45\n",
    "p1=plt.bar(index,CIS5357_mean,width,yerr=CIS5357_std)\n",
    "p2=plt.bar(index+width,CIS5560_mean,width,yerr=CIS5560_std)\n",
    "plt.xticks(index+width,('X','Y','Z','S'))\n",
    "plt.title('Comparison')\n",
    "plt.xlabel('Students')\n",
    "plt.ylabel('Mean')\n",
    "#plt.legend(p1[0],p2[0],)"
   ]
  },
  {
   "cell_type": "code",
   "execution_count": 9,
   "metadata": {},
   "outputs": [],
   "source": [
    "import seaborn as sns"
   ]
  },
  {
   "cell_type": "code",
   "execution_count": 8,
   "metadata": {},
   "outputs": [
    {
     "data": {
      "text/html": [
       "<div>\n",
       "<style scoped>\n",
       "    .dataframe tbody tr th:only-of-type {\n",
       "        vertical-align: middle;\n",
       "    }\n",
       "\n",
       "    .dataframe tbody tr th {\n",
       "        vertical-align: top;\n",
       "    }\n",
       "\n",
       "    .dataframe thead th {\n",
       "        text-align: right;\n",
       "    }\n",
       "</style>\n",
       "<table border=\"1\" class=\"dataframe\">\n",
       "  <thead>\n",
       "    <tr style=\"text-align: right;\">\n",
       "      <th></th>\n",
       "      <th>Month</th>\n",
       "      <th>CityA-High</th>\n",
       "      <th>CityA-low</th>\n",
       "      <th>CityB_High</th>\n",
       "      <th>CityB_Low</th>\n",
       "    </tr>\n",
       "  </thead>\n",
       "  <tbody>\n",
       "    <tr>\n",
       "      <td>0</td>\n",
       "      <td>Jan</td>\n",
       "      <td>33.0</td>\n",
       "      <td>19.0</td>\n",
       "      <td>54.0</td>\n",
       "      <td>36.0</td>\n",
       "    </tr>\n",
       "    <tr>\n",
       "      <td>1</td>\n",
       "      <td>Feb</td>\n",
       "      <td>37.0</td>\n",
       "      <td>22.0</td>\n",
       "      <td>59.0</td>\n",
       "      <td>30.0</td>\n",
       "    </tr>\n",
       "    <tr>\n",
       "      <td>2</td>\n",
       "      <td>mar</td>\n",
       "      <td>44.0</td>\n",
       "      <td>28.0</td>\n",
       "      <td>67.0</td>\n",
       "      <td>37.0</td>\n",
       "    </tr>\n",
       "    <tr>\n",
       "      <td>3</td>\n",
       "      <td>apr</td>\n",
       "      <td>56.0</td>\n",
       "      <td>38.0</td>\n",
       "      <td>76.0</td>\n",
       "      <td>46.0</td>\n",
       "    </tr>\n",
       "    <tr>\n",
       "      <td>4</td>\n",
       "      <td>May</td>\n",
       "      <td>67.0</td>\n",
       "      <td>47.0</td>\n",
       "      <td>83.0</td>\n",
       "      <td>56.0</td>\n",
       "    </tr>\n",
       "    <tr>\n",
       "      <td>5</td>\n",
       "      <td>sep</td>\n",
       "      <td>71.0</td>\n",
       "      <td>53.0</td>\n",
       "      <td>84.0</td>\n",
       "      <td>59.0</td>\n",
       "    </tr>\n",
       "    <tr>\n",
       "      <td>6</td>\n",
       "      <td>oct</td>\n",
       "      <td>60.0</td>\n",
       "      <td>42.0</td>\n",
       "      <td>75.0</td>\n",
       "      <td>48.0</td>\n",
       "    </tr>\n",
       "    <tr>\n",
       "      <td>7</td>\n",
       "      <td>nov</td>\n",
       "      <td>50.0</td>\n",
       "      <td>35.0</td>\n",
       "      <td>63.0</td>\n",
       "      <td>36.0</td>\n",
       "    </tr>\n",
       "    <tr>\n",
       "      <td>8</td>\n",
       "      <td>dec</td>\n",
       "      <td>38.0</td>\n",
       "      <td>24.0</td>\n",
       "      <td>55.0</td>\n",
       "      <td>76.0</td>\n",
       "    </tr>\n",
       "  </tbody>\n",
       "</table>\n",
       "</div>"
      ],
      "text/plain": [
       "  Month  CityA-High  CityA-low  CityB_High  CityB_Low\n",
       "0   Jan        33.0       19.0        54.0       36.0\n",
       "1   Feb        37.0       22.0        59.0       30.0\n",
       "2   mar        44.0       28.0        67.0       37.0\n",
       "3   apr        56.0       38.0        76.0       46.0\n",
       "4   May        67.0       47.0        83.0       56.0\n",
       "5   sep        71.0       53.0        84.0       59.0\n",
       "6   oct        60.0       42.0        75.0       48.0\n",
       "7   nov        50.0       35.0        63.0       36.0\n",
       "8   dec        38.0       24.0        55.0       76.0"
      ]
     },
     "execution_count": 8,
     "metadata": {},
     "output_type": "execute_result"
    }
   ],
   "source": [
    "df"
   ]
  },
  {
   "cell_type": "code",
   "execution_count": 10,
   "metadata": {},
   "outputs": [],
   "source": [
    "df1=pd.read_csv(r'C:\\Users\\chinm\\Downloads\\refff.csv')"
   ]
  },
  {
   "cell_type": "code",
   "execution_count": 11,
   "metadata": {},
   "outputs": [
    {
     "data": {
      "text/html": [
       "<div>\n",
       "<style scoped>\n",
       "    .dataframe tbody tr th:only-of-type {\n",
       "        vertical-align: middle;\n",
       "    }\n",
       "\n",
       "    .dataframe tbody tr th {\n",
       "        vertical-align: top;\n",
       "    }\n",
       "\n",
       "    .dataframe thead th {\n",
       "        text-align: right;\n",
       "    }\n",
       "</style>\n",
       "<table border=\"1\" class=\"dataframe\">\n",
       "  <thead>\n",
       "    <tr style=\"text-align: right;\">\n",
       "      <th></th>\n",
       "      <th>Month</th>\n",
       "      <th>High Temp</th>\n",
       "      <th>L w Temp</th>\n",
       "      <th>City</th>\n",
       "    </tr>\n",
       "  </thead>\n",
       "  <tbody>\n",
       "    <tr>\n",
       "      <td>0</td>\n",
       "      <td>Jan</td>\n",
       "      <td>NaN</td>\n",
       "      <td>19</td>\n",
       "      <td>A</td>\n",
       "    </tr>\n",
       "    <tr>\n",
       "      <td>1</td>\n",
       "      <td>Feb</td>\n",
       "      <td>37.0</td>\n",
       "      <td>22</td>\n",
       "      <td>A</td>\n",
       "    </tr>\n",
       "    <tr>\n",
       "      <td>2</td>\n",
       "      <td>Mar</td>\n",
       "      <td>44.0</td>\n",
       "      <td>28</td>\n",
       "      <td>A</td>\n",
       "    </tr>\n",
       "    <tr>\n",
       "      <td>3</td>\n",
       "      <td>Apr</td>\n",
       "      <td>56.0</td>\n",
       "      <td>38</td>\n",
       "      <td>A</td>\n",
       "    </tr>\n",
       "    <tr>\n",
       "      <td>4</td>\n",
       "      <td>May</td>\n",
       "      <td>67.0</td>\n",
       "      <td>47</td>\n",
       "      <td>A</td>\n",
       "    </tr>\n",
       "    <tr>\n",
       "      <td>5</td>\n",
       "      <td>Jun</td>\n",
       "      <td>75.0</td>\n",
       "      <td>57</td>\n",
       "      <td>A</td>\n",
       "    </tr>\n",
       "    <tr>\n",
       "      <td>6</td>\n",
       "      <td>Jul</td>\n",
       "      <td>79.0</td>\n",
       "      <td>62</td>\n",
       "      <td>A</td>\n",
       "    </tr>\n",
       "    <tr>\n",
       "      <td>7</td>\n",
       "      <td>Aug</td>\n",
       "      <td>78.0</td>\n",
       "      <td>60</td>\n",
       "      <td>A</td>\n",
       "    </tr>\n",
       "    <tr>\n",
       "      <td>8</td>\n",
       "      <td>Sep</td>\n",
       "      <td>71.0</td>\n",
       "      <td>53</td>\n",
       "      <td>A</td>\n",
       "    </tr>\n",
       "    <tr>\n",
       "      <td>9</td>\n",
       "      <td>Oct</td>\n",
       "      <td>60.0</td>\n",
       "      <td>42</td>\n",
       "      <td>A</td>\n",
       "    </tr>\n",
       "    <tr>\n",
       "      <td>10</td>\n",
       "      <td>Nov</td>\n",
       "      <td>50.0</td>\n",
       "      <td>35</td>\n",
       "      <td>A</td>\n",
       "    </tr>\n",
       "    <tr>\n",
       "      <td>11</td>\n",
       "      <td>Dec</td>\n",
       "      <td>38.0</td>\n",
       "      <td>24</td>\n",
       "      <td>A</td>\n",
       "    </tr>\n",
       "    <tr>\n",
       "      <td>12</td>\n",
       "      <td>Jan</td>\n",
       "      <td>54.0</td>\n",
       "      <td>26</td>\n",
       "      <td>B</td>\n",
       "    </tr>\n",
       "    <tr>\n",
       "      <td>13</td>\n",
       "      <td>Feb</td>\n",
       "      <td>59.0</td>\n",
       "      <td>30</td>\n",
       "      <td>B</td>\n",
       "    </tr>\n",
       "    <tr>\n",
       "      <td>14</td>\n",
       "      <td>Mar</td>\n",
       "      <td>67.0</td>\n",
       "      <td>37</td>\n",
       "      <td>B</td>\n",
       "    </tr>\n",
       "    <tr>\n",
       "      <td>15</td>\n",
       "      <td>Apr</td>\n",
       "      <td>76.0</td>\n",
       "      <td>46</td>\n",
       "      <td>B</td>\n",
       "    </tr>\n",
       "    <tr>\n",
       "      <td>16</td>\n",
       "      <td>May</td>\n",
       "      <td>83.0</td>\n",
       "      <td>56</td>\n",
       "      <td>B</td>\n",
       "    </tr>\n",
       "    <tr>\n",
       "      <td>17</td>\n",
       "      <td>Jun</td>\n",
       "      <td>91.0</td>\n",
       "      <td>65</td>\n",
       "      <td>B</td>\n",
       "    </tr>\n",
       "    <tr>\n",
       "      <td>18</td>\n",
       "      <td>Jul</td>\n",
       "      <td>93.0</td>\n",
       "      <td>69</td>\n",
       "      <td>B</td>\n",
       "    </tr>\n",
       "    <tr>\n",
       "      <td>19</td>\n",
       "      <td>Aug</td>\n",
       "      <td>94.0</td>\n",
       "      <td>67</td>\n",
       "      <td>B</td>\n",
       "    </tr>\n",
       "    <tr>\n",
       "      <td>20</td>\n",
       "      <td>Sep</td>\n",
       "      <td>84.0</td>\n",
       "      <td>59</td>\n",
       "      <td>B</td>\n",
       "    </tr>\n",
       "    <tr>\n",
       "      <td>21</td>\n",
       "      <td>Oct</td>\n",
       "      <td>75.0</td>\n",
       "      <td>48</td>\n",
       "      <td>B</td>\n",
       "    </tr>\n",
       "    <tr>\n",
       "      <td>22</td>\n",
       "      <td>Nov</td>\n",
       "      <td>63.0</td>\n",
       "      <td>36</td>\n",
       "      <td>B</td>\n",
       "    </tr>\n",
       "    <tr>\n",
       "      <td>23</td>\n",
       "      <td>Dec</td>\n",
       "      <td>55.0</td>\n",
       "      <td>28</td>\n",
       "      <td>B</td>\n",
       "    </tr>\n",
       "  </tbody>\n",
       "</table>\n",
       "</div>"
      ],
      "text/plain": [
       "   Month  High Temp  L w Temp City\n",
       "0    Jan        NaN        19    A\n",
       "1    Feb       37.0        22    A\n",
       "2    Mar       44.0        28    A\n",
       "3    Apr       56.0        38    A\n",
       "4    May       67.0        47    A\n",
       "5    Jun       75.0        57    A\n",
       "6    Jul       79.0        62    A\n",
       "7    Aug       78.0        60    A\n",
       "8    Sep       71.0        53    A\n",
       "9    Oct       60.0        42    A\n",
       "10   Nov       50.0        35    A\n",
       "11   Dec       38.0        24    A\n",
       "12   Jan       54.0        26    B\n",
       "13   Feb       59.0        30    B\n",
       "14   Mar       67.0        37    B\n",
       "15   Apr       76.0        46    B\n",
       "16   May       83.0        56    B\n",
       "17   Jun       91.0        65    B\n",
       "18   Jul       93.0        69    B\n",
       "19   Aug       94.0        67    B\n",
       "20   Sep       84.0        59    B\n",
       "21   Oct       75.0        48    B\n",
       "22   Nov       63.0        36    B\n",
       "23   Dec       55.0        28    B"
      ]
     },
     "execution_count": 11,
     "metadata": {},
     "output_type": "execute_result"
    }
   ],
   "source": [
    "df1"
   ]
  },
  {
   "cell_type": "code",
   "execution_count": 12,
   "metadata": {},
   "outputs": [
    {
     "data": {
      "text/plain": [
       "<matplotlib.axes._subplots.AxesSubplot at 0x21daa8559c8>"
      ]
     },
     "execution_count": 12,
     "metadata": {},
     "output_type": "execute_result"
    },
    {
     "data": {
      "image/png": "[encoded data removed]",
      "text/plain": [
       "<Figure size 432x288 with 1 Axes>"
      ]
     },
     "metadata": {
      "needs_background": "light"
     },
     "output_type": "display_data"
    }
   ],
   "source": [
    "sns.regplot(df1['High Temp'],df1['L w Temp'])"
   ]
  },
  {
   "cell_type": "code",
   "execution_count": 16,
   "metadata": {},
   "outputs": [
    {
     "data": {
      "text/plain": [
       "<seaborn.axisgrid.FacetGrid at 0x21dae6c8c88>"
      ]
     },
     "execution_count": 16,
     "metadata": {},
     "output_type": "execute_result"
    },
    {
     "data": {
      "image/png": "[encoded data removed]",
      "text/plain": [
       "<Figure size 360x360 with 1 Axes>"
      ]
     },
     "metadata": {
      "needs_background": "light"
     },
     "output_type": "display_data"
    }
   ],
   "source": [
    "sns.catplot('High Temp',kind='box',data=df1)"
   ]
  },
  {
   "cell_type": "code",
   "execution_count": 18,
   "metadata": {},
   "outputs": [],
   "source": [
    "df1['rain']=['yes','yes','yes','yes','yes', 'no','yes', 'no','yes','no','no','no','no','no','no','no','no','no','no','no','yes','yes','yes','no']"
   ]
  },
  {
   "cell_type": "code",
   "execution_count": 20,
   "metadata": {},
   "outputs": [
    {
     "data": {
      "text/html": [
       "<div>\n",
       "<style scoped>\n",
       "    .dataframe tbody tr th:only-of-type {\n",
       "        vertical-align: middle;\n",
       "    }\n",
       "\n",
       "    .dataframe tbody tr th {\n",
       "        vertical-align: top;\n",
       "    }\n",
       "\n",
       "    .dataframe thead th {\n",
       "        text-align: right;\n",
       "    }\n",
       "</style>\n",
       "<table border=\"1\" class=\"dataframe\">\n",
       "  <thead>\n",
       "    <tr style=\"text-align: right;\">\n",
       "      <th></th>\n",
       "      <th>Month</th>\n",
       "      <th>High Temp</th>\n",
       "      <th>L w Temp</th>\n",
       "      <th>City</th>\n",
       "      <th>rain</th>\n",
       "    </tr>\n",
       "  </thead>\n",
       "  <tbody>\n",
       "    <tr>\n",
       "      <td>0</td>\n",
       "      <td>Jan</td>\n",
       "      <td>NaN</td>\n",
       "      <td>19</td>\n",
       "      <td>A</td>\n",
       "      <td>yes</td>\n",
       "    </tr>\n",
       "    <tr>\n",
       "      <td>1</td>\n",
       "      <td>Feb</td>\n",
       "      <td>37.0</td>\n",
       "      <td>22</td>\n",
       "      <td>A</td>\n",
       "      <td>yes</td>\n",
       "    </tr>\n",
       "    <tr>\n",
       "      <td>2</td>\n",
       "      <td>Mar</td>\n",
       "      <td>44.0</td>\n",
       "      <td>28</td>\n",
       "      <td>A</td>\n",
       "      <td>yes</td>\n",
       "    </tr>\n",
       "    <tr>\n",
       "      <td>3</td>\n",
       "      <td>Apr</td>\n",
       "      <td>56.0</td>\n",
       "      <td>38</td>\n",
       "      <td>A</td>\n",
       "      <td>yes</td>\n",
       "    </tr>\n",
       "    <tr>\n",
       "      <td>4</td>\n",
       "      <td>May</td>\n",
       "      <td>67.0</td>\n",
       "      <td>47</td>\n",
       "      <td>A</td>\n",
       "      <td>yes</td>\n",
       "    </tr>\n",
       "    <tr>\n",
       "      <td>5</td>\n",
       "      <td>Jun</td>\n",
       "      <td>75.0</td>\n",
       "      <td>57</td>\n",
       "      <td>A</td>\n",
       "      <td>no</td>\n",
       "    </tr>\n",
       "    <tr>\n",
       "      <td>6</td>\n",
       "      <td>Jul</td>\n",
       "      <td>79.0</td>\n",
       "      <td>62</td>\n",
       "      <td>A</td>\n",
       "      <td>yes</td>\n",
       "    </tr>\n",
       "    <tr>\n",
       "      <td>7</td>\n",
       "      <td>Aug</td>\n",
       "      <td>78.0</td>\n",
       "      <td>60</td>\n",
       "      <td>A</td>\n",
       "      <td>no</td>\n",
       "    </tr>\n",
       "    <tr>\n",
       "      <td>8</td>\n",
       "      <td>Sep</td>\n",
       "      <td>71.0</td>\n",
       "      <td>53</td>\n",
       "      <td>A</td>\n",
       "      <td>yes</td>\n",
       "    </tr>\n",
       "    <tr>\n",
       "      <td>9</td>\n",
       "      <td>Oct</td>\n",
       "      <td>60.0</td>\n",
       "      <td>42</td>\n",
       "      <td>A</td>\n",
       "      <td>no</td>\n",
       "    </tr>\n",
       "    <tr>\n",
       "      <td>10</td>\n",
       "      <td>Nov</td>\n",
       "      <td>50.0</td>\n",
       "      <td>35</td>\n",
       "      <td>A</td>\n",
       "      <td>no</td>\n",
       "    </tr>\n",
       "    <tr>\n",
       "      <td>11</td>\n",
       "      <td>Dec</td>\n",
       "      <td>38.0</td>\n",
       "      <td>24</td>\n",
       "      <td>A</td>\n",
       "      <td>no</td>\n",
       "    </tr>\n",
       "    <tr>\n",
       "      <td>12</td>\n",
       "      <td>Jan</td>\n",
       "      <td>54.0</td>\n",
       "      <td>26</td>\n",
       "      <td>B</td>\n",
       "      <td>no</td>\n",
       "    </tr>\n",
       "    <tr>\n",
       "      <td>13</td>\n",
       "      <td>Feb</td>\n",
       "      <td>59.0</td>\n",
       "      <td>30</td>\n",
       "      <td>B</td>\n",
       "      <td>no</td>\n",
       "    </tr>\n",
       "    <tr>\n",
       "      <td>14</td>\n",
       "      <td>Mar</td>\n",
       "      <td>67.0</td>\n",
       "      <td>37</td>\n",
       "      <td>B</td>\n",
       "      <td>no</td>\n",
       "    </tr>\n",
       "    <tr>\n",
       "      <td>15</td>\n",
       "      <td>Apr</td>\n",
       "      <td>76.0</td>\n",
       "      <td>46</td>\n",
       "      <td>B</td>\n",
       "      <td>no</td>\n",
       "    </tr>\n",
       "    <tr>\n",
       "      <td>16</td>\n",
       "      <td>May</td>\n",
       "      <td>83.0</td>\n",
       "      <td>56</td>\n",
       "      <td>B</td>\n",
       "      <td>no</td>\n",
       "    </tr>\n",
       "    <tr>\n",
       "      <td>17</td>\n",
       "      <td>Jun</td>\n",
       "      <td>91.0</td>\n",
       "      <td>65</td>\n",
       "      <td>B</td>\n",
       "      <td>no</td>\n",
       "    </tr>\n",
       "    <tr>\n",
       "      <td>18</td>\n",
       "      <td>Jul</td>\n",
       "      <td>93.0</td>\n",
       "      <td>69</td>\n",
       "      <td>B</td>\n",
       "      <td>no</td>\n",
       "    </tr>\n",
       "    <tr>\n",
       "      <td>19</td>\n",
       "      <td>Aug</td>\n",
       "      <td>94.0</td>\n",
       "      <td>67</td>\n",
       "      <td>B</td>\n",
       "      <td>no</td>\n",
       "    </tr>\n",
       "    <tr>\n",
       "      <td>20</td>\n",
       "      <td>Sep</td>\n",
       "      <td>84.0</td>\n",
       "      <td>59</td>\n",
       "      <td>B</td>\n",
       "      <td>yes</td>\n",
       "    </tr>\n",
       "    <tr>\n",
       "      <td>21</td>\n",
       "      <td>Oct</td>\n",
       "      <td>75.0</td>\n",
       "      <td>48</td>\n",
       "      <td>B</td>\n",
       "      <td>yes</td>\n",
       "    </tr>\n",
       "    <tr>\n",
       "      <td>22</td>\n",
       "      <td>Nov</td>\n",
       "      <td>63.0</td>\n",
       "      <td>36</td>\n",
       "      <td>B</td>\n",
       "      <td>yes</td>\n",
       "    </tr>\n",
       "    <tr>\n",
       "      <td>23</td>\n",
       "      <td>Dec</td>\n",
       "      <td>55.0</td>\n",
       "      <td>28</td>\n",
       "      <td>B</td>\n",
       "      <td>no</td>\n",
       "    </tr>\n",
       "  </tbody>\n",
       "</table>\n",
       "</div>"
      ],
      "text/plain": [
       "   Month  High Temp  L w Temp City rain\n",
       "0    Jan        NaN        19    A  yes\n",
       "1    Feb       37.0        22    A  yes\n",
       "2    Mar       44.0        28    A  yes\n",
       "3    Apr       56.0        38    A  yes\n",
       "4    May       67.0        47    A  yes\n",
       "5    Jun       75.0        57    A   no\n",
       "6    Jul       79.0        62    A  yes\n",
       "7    Aug       78.0        60    A   no\n",
       "8    Sep       71.0        53    A  yes\n",
       "9    Oct       60.0        42    A   no\n",
       "10   Nov       50.0        35    A   no\n",
       "11   Dec       38.0        24    A   no\n",
       "12   Jan       54.0        26    B   no\n",
       "13   Feb       59.0        30    B   no\n",
       "14   Mar       67.0        37    B   no\n",
       "15   Apr       76.0        46    B   no\n",
       "16   May       83.0        56    B   no\n",
       "17   Jun       91.0        65    B   no\n",
       "18   Jul       93.0        69    B   no\n",
       "19   Aug       94.0        67    B   no\n",
       "20   Sep       84.0        59    B  yes\n",
       "21   Oct       75.0        48    B  yes\n",
       "22   Nov       63.0        36    B  yes\n",
       "23   Dec       55.0        28    B   no"
      ]
     },
     "execution_count": 20,
     "metadata": {},
     "output_type": "execute_result"
    }
   ],
   "source": [
    "df1"
   ]
  },
  {
   "cell_type": "code",
   "execution_count": 21,
   "metadata": {},
   "outputs": [
    {
     "data": {
      "text/plain": [
       "<seaborn.axisgrid.FacetGrid at 0x21dae97b448>"
      ]
     },
     "execution_count": 21,
     "metadata": {},
     "output_type": "execute_result"
    },
    {
     "data": {
      "image/png": "[encoded data removed]",
      "text/plain": [
       "<Figure size 413.25x360 with 1 Axes>"
      ]
     },
     "metadata": {
      "needs_background": "light"
     },
     "output_type": "display_data"
    }
   ],
   "source": [
    "sns.catplot('City','High Temp',kind='box',hue='rain',data=df1)"
   ]
  },
  {
   "cell_type": "code",
   "execution_count": 22,
   "metadata": {},
   "outputs": [
    {
     "data": {
      "text/html": [
       "<div>\n",
       "<style scoped>\n",
       "    .dataframe tbody tr th:only-of-type {\n",
       "        vertical-align: middle;\n",
       "    }\n",
       "\n",
       "    .dataframe tbody tr th {\n",
       "        vertical-align: top;\n",
       "    }\n",
       "\n",
       "    .dataframe thead th {\n",
       "        text-align: right;\n",
       "    }\n",
       "</style>\n",
       "<table border=\"1\" class=\"dataframe\">\n",
       "  <thead>\n",
       "    <tr style=\"text-align: right;\">\n",
       "      <th></th>\n",
       "      <th>Month</th>\n",
       "      <th>High Temp</th>\n",
       "      <th>L w Temp</th>\n",
       "      <th>City</th>\n",
       "      <th>rain</th>\n",
       "    </tr>\n",
       "  </thead>\n",
       "  <tbody>\n",
       "    <tr>\n",
       "      <td>0</td>\n",
       "      <td>Jan</td>\n",
       "      <td>NaN</td>\n",
       "      <td>19</td>\n",
       "      <td>A</td>\n",
       "      <td>yes</td>\n",
       "    </tr>\n",
       "    <tr>\n",
       "      <td>1</td>\n",
       "      <td>Feb</td>\n",
       "      <td>37.0</td>\n",
       "      <td>22</td>\n",
       "      <td>A</td>\n",
       "      <td>yes</td>\n",
       "    </tr>\n",
       "    <tr>\n",
       "      <td>2</td>\n",
       "      <td>Mar</td>\n",
       "      <td>44.0</td>\n",
       "      <td>28</td>\n",
       "      <td>A</td>\n",
       "      <td>yes</td>\n",
       "    </tr>\n",
       "    <tr>\n",
       "      <td>3</td>\n",
       "      <td>Apr</td>\n",
       "      <td>56.0</td>\n",
       "      <td>38</td>\n",
       "      <td>A</td>\n",
       "      <td>yes</td>\n",
       "    </tr>\n",
       "    <tr>\n",
       "      <td>4</td>\n",
       "      <td>May</td>\n",
       "      <td>67.0</td>\n",
       "      <td>47</td>\n",
       "      <td>A</td>\n",
       "      <td>yes</td>\n",
       "    </tr>\n",
       "    <tr>\n",
       "      <td>5</td>\n",
       "      <td>Jun</td>\n",
       "      <td>75.0</td>\n",
       "      <td>57</td>\n",
       "      <td>A</td>\n",
       "      <td>no</td>\n",
       "    </tr>\n",
       "    <tr>\n",
       "      <td>6</td>\n",
       "      <td>Jul</td>\n",
       "      <td>79.0</td>\n",
       "      <td>62</td>\n",
       "      <td>A</td>\n",
       "      <td>yes</td>\n",
       "    </tr>\n",
       "    <tr>\n",
       "      <td>7</td>\n",
       "      <td>Aug</td>\n",
       "      <td>78.0</td>\n",
       "      <td>60</td>\n",
       "      <td>A</td>\n",
       "      <td>no</td>\n",
       "    </tr>\n",
       "    <tr>\n",
       "      <td>8</td>\n",
       "      <td>Sep</td>\n",
       "      <td>71.0</td>\n",
       "      <td>53</td>\n",
       "      <td>A</td>\n",
       "      <td>yes</td>\n",
       "    </tr>\n",
       "    <tr>\n",
       "      <td>9</td>\n",
       "      <td>Oct</td>\n",
       "      <td>60.0</td>\n",
       "      <td>42</td>\n",
       "      <td>A</td>\n",
       "      <td>no</td>\n",
       "    </tr>\n",
       "    <tr>\n",
       "      <td>10</td>\n",
       "      <td>Nov</td>\n",
       "      <td>50.0</td>\n",
       "      <td>35</td>\n",
       "      <td>A</td>\n",
       "      <td>no</td>\n",
       "    </tr>\n",
       "    <tr>\n",
       "      <td>11</td>\n",
       "      <td>Dec</td>\n",
       "      <td>38.0</td>\n",
       "      <td>24</td>\n",
       "      <td>A</td>\n",
       "      <td>no</td>\n",
       "    </tr>\n",
       "    <tr>\n",
       "      <td>12</td>\n",
       "      <td>Jan</td>\n",
       "      <td>54.0</td>\n",
       "      <td>26</td>\n",
       "      <td>B</td>\n",
       "      <td>no</td>\n",
       "    </tr>\n",
       "    <tr>\n",
       "      <td>13</td>\n",
       "      <td>Feb</td>\n",
       "      <td>59.0</td>\n",
       "      <td>30</td>\n",
       "      <td>B</td>\n",
       "      <td>no</td>\n",
       "    </tr>\n",
       "    <tr>\n",
       "      <td>14</td>\n",
       "      <td>Mar</td>\n",
       "      <td>67.0</td>\n",
       "      <td>37</td>\n",
       "      <td>B</td>\n",
       "      <td>no</td>\n",
       "    </tr>\n",
       "    <tr>\n",
       "      <td>15</td>\n",
       "      <td>Apr</td>\n",
       "      <td>76.0</td>\n",
       "      <td>46</td>\n",
       "      <td>B</td>\n",
       "      <td>no</td>\n",
       "    </tr>\n",
       "    <tr>\n",
       "      <td>16</td>\n",
       "      <td>May</td>\n",
       "      <td>83.0</td>\n",
       "      <td>56</td>\n",
       "      <td>B</td>\n",
       "      <td>no</td>\n",
       "    </tr>\n",
       "    <tr>\n",
       "      <td>17</td>\n",
       "      <td>Jun</td>\n",
       "      <td>91.0</td>\n",
       "      <td>65</td>\n",
       "      <td>B</td>\n",
       "      <td>no</td>\n",
       "    </tr>\n",
       "    <tr>\n",
       "      <td>18</td>\n",
       "      <td>Jul</td>\n",
       "      <td>93.0</td>\n",
       "      <td>69</td>\n",
       "      <td>B</td>\n",
       "      <td>no</td>\n",
       "    </tr>\n",
       "    <tr>\n",
       "      <td>19</td>\n",
       "      <td>Aug</td>\n",
       "      <td>94.0</td>\n",
       "      <td>67</td>\n",
       "      <td>B</td>\n",
       "      <td>no</td>\n",
       "    </tr>\n",
       "    <tr>\n",
       "      <td>20</td>\n",
       "      <td>Sep</td>\n",
       "      <td>84.0</td>\n",
       "      <td>59</td>\n",
       "      <td>B</td>\n",
       "      <td>yes</td>\n",
       "    </tr>\n",
       "    <tr>\n",
       "      <td>21</td>\n",
       "      <td>Oct</td>\n",
       "      <td>75.0</td>\n",
       "      <td>48</td>\n",
       "      <td>B</td>\n",
       "      <td>yes</td>\n",
       "    </tr>\n",
       "    <tr>\n",
       "      <td>22</td>\n",
       "      <td>Nov</td>\n",
       "      <td>63.0</td>\n",
       "      <td>36</td>\n",
       "      <td>B</td>\n",
       "      <td>yes</td>\n",
       "    </tr>\n",
       "    <tr>\n",
       "      <td>23</td>\n",
       "      <td>Dec</td>\n",
       "      <td>55.0</td>\n",
       "      <td>28</td>\n",
       "      <td>B</td>\n",
       "      <td>no</td>\n",
       "    </tr>\n",
       "  </tbody>\n",
       "</table>\n",
       "</div>"
      ],
      "text/plain": [
       "   Month  High Temp  L w Temp City rain\n",
       "0    Jan        NaN        19    A  yes\n",
       "1    Feb       37.0        22    A  yes\n",
       "2    Mar       44.0        28    A  yes\n",
       "3    Apr       56.0        38    A  yes\n",
       "4    May       67.0        47    A  yes\n",
       "5    Jun       75.0        57    A   no\n",
       "6    Jul       79.0        62    A  yes\n",
       "7    Aug       78.0        60    A   no\n",
       "8    Sep       71.0        53    A  yes\n",
       "9    Oct       60.0        42    A   no\n",
       "10   Nov       50.0        35    A   no\n",
       "11   Dec       38.0        24    A   no\n",
       "12   Jan       54.0        26    B   no\n",
       "13   Feb       59.0        30    B   no\n",
       "14   Mar       67.0        37    B   no\n",
       "15   Apr       76.0        46    B   no\n",
       "16   May       83.0        56    B   no\n",
       "17   Jun       91.0        65    B   no\n",
       "18   Jul       93.0        69    B   no\n",
       "19   Aug       94.0        67    B   no\n",
       "20   Sep       84.0        59    B  yes\n",
       "21   Oct       75.0        48    B  yes\n",
       "22   Nov       63.0        36    B  yes\n",
       "23   Dec       55.0        28    B   no"
      ]
     },
     "execution_count": 22,
     "metadata": {},
     "output_type": "execute_result"
    }
   ],
   "source": [
    "df1"
   ]
  },
  {
   "cell_type": "code",
   "execution_count": 37,
   "metadata": {},
   "outputs": [
    {
     "ename": "SyntaxError",
     "evalue": "invalid syntax (<ipython-input-37-8f5fa02324dd>, line 1)",
     "output_type": "error",
     "traceback": [
      "\u001b[1;36m  File \u001b[1;32m\"<ipython-input-37-8f5fa02324dd>\"\u001b[1;36m, line \u001b[1;32m1\u001b[0m\n\u001b[1;33m    df1.iloc[[:],[0,1,3]]\u001b[0m\n\u001b[1;37m              ^\u001b[0m\n\u001b[1;31mSyntaxError\u001b[0m\u001b[1;31m:\u001b[0m invalid syntax\n"
     ]
    }
   ],
   "source": [
    "df1.iloc[[],[0,1,3]]\n"
   ]
  },
  {
   "cell_type": "code",
   "execution_count": 7,
   "metadata": {},
   "outputs": [],
   "source": [
    "from scipy import optimize\n",
    "from scipy . optimize import minimize"
   ]
  },
  {
   "cell_type": "code",
   "execution_count": 51,
   "metadata": {},
   "outputs": [],
   "source": [
    "# x0 : AL, x1 : AD, x2 : OL, x3 : R1, x4 : R2, x5 : R3, x6 : R4, x7 : R¯.\n",
    "\n",
    "def objective (x) :\n",
    "    return 1/4*(( x [3] - x [7]) **2 + ( x[4] - x [7]) **2 + ( x [5] - x[7]) **2 +( x[6] - x [7]) **2)\n",
    "\n",
    "def constraint1 (x):\n",
    "    return -39.8* x [0] - 42.5* x [1] - 10.2* x [2] - x [3]\n",
    "\n",
    "def constraint2 (x):\n",
    "    return 10*x[0] + 13.60*x[1] + 137.90*x[2] - x[4]\n",
    "\n",
    "def constraint3 (x):\n",
    "    return 124.90*x[0] + 56.90*x[1] + 170.60*x[2] - x[5]\n",
    "\n",
    "def constraint4 (x):\n",
    "    return 151.80*x[0] + 36.70*x[1] + 16.60*x[2] - x[6]\n",
    "\n",
    "def constraint5 (x):\n",
    "    return x[0]+x[1]+x[2]-1\n",
    "\n",
    "def constraint6 (x):\n",
    "    return (x [3] + x [4] + x [5] + x [6]) /4 - x [7]\n",
    "    \n",
    "def constraint7 (x):\n",
    "    return -(( x [3] + x [4] + x [5] + x [6]) /4 - x [7]) + 35 \n",
    "    \n"
   ]
  },
  {
   "cell_type": "code",
   "execution_count": 4,
   "metadata": {},
   "outputs": [],
   "source": [
    "import numpy as np"
   ]
  },
  {
   "cell_type": "code",
   "execution_count": 53,
   "metadata": {},
   "outputs": [
    {
     "name": "stdout",
     "output_type": "stream",
     "text": [
      "     fun: 1983.5630700224167\n",
      "     jac: array([  0.        ,   0.        ,   0.        , -34.47857666,\n",
      "         5.34188843,  27.64086914,   1.49584961,   0.        ])\n",
      " message: 'Optimization terminated successfully.'\n",
      "    nfev: 20\n",
      "     nit: 2\n",
      "    njev: 2\n",
      "  status: 0\n",
      " success: True\n",
      "       x: array([ 5.65834923e-02,  6.83662360e-01,  2.59754147e-01, -3.39571656e+01,\n",
      "        4.56837400e+01,  9.02817240e+01,  3.79917016e+01,  3.50000000e+01])\n"
     ]
    }
   ],
   "source": [
    "import numpy as np\n",
    "n = 8\n",
    "x0 = np.zeros(n)\n",
    "#print(objective(x0))\n",
    "\n",
    "b1 = (0.0 ,1.0)\n",
    "b2 = ( -100.0 , 200.0)\n",
    "b3 = (35.0 , 200.0)\n",
    "bnds = ( b1 , b1 , b1 , b2 , b2 , b2 , b2 , b3 )\n",
    "\n",
    "con1 = {'type': 'eq', 'fun': constraint1}\n",
    "con2 = {'type': 'eq', 'fun': constraint2}\n",
    "con3 = {'type': 'eq', 'fun': constraint3}\n",
    "con4 = {'type': 'eq', 'fun': constraint4}\n",
    "con5 = {'type': 'eq', 'fun': constraint5}\n",
    "con6 = {'type': 'eq', 'fun': constraint6}\n",
    "con7 = {'type': 'ineq', 'fun': constraint7}\n",
    "\n",
    "cons = ([con1,con2,con3,con4,con5,con6,con7])\n",
    "solution= minimize(objective,x0,\n",
    "                   bounds=bnds,constraints=cons)\n",
    "print(solution)\n",
    "\n",
    "\n"
   ]
  },
  {
   "cell_type": "code",
   "execution_count": 37,
   "metadata": {},
   "outputs": [
    {
     "name": "stdout",
     "output_type": "stream",
     "text": [
      "     fun: 1983.5630700224167\n",
      "     jac: array([  0.        ,   0.        ,   0.        , -34.47857666,\n",
      "         5.34188843,  27.64086914,   1.49584961,   0.        ])\n",
      " message: 'Optimization terminated successfully.'\n",
      "    nfev: 20\n",
      "     nit: 2\n",
      "    njev: 2\n",
      "  status: 0\n",
      " success: True\n",
      "       x: array([ 5.65834923e-02,  6.83662360e-01,  2.59754147e-01, -3.39571656e+01,\n",
      "        4.56837400e+01,  9.02817240e+01,  3.79917016e+01,  3.50000000e+01])\n"
     ]
    }
   ],
   "source": [
    "con1 = {'type': 'eq', 'fun': constraint1}\n",
    "con2 = {'type': 'eq', 'fun': constraint2}\n",
    "con3 = {'type': 'eq', 'fun': constraint3}\n",
    "con4 = {'type': 'eq', 'fun': constraint4}\n",
    "con5 = {'type': 'eq', 'fun': constraint5}\n",
    "con6 = {'type': 'eq', 'fun': constraint6}\n",
    "con7 = {'type': 'ineq', 'fun': constraint7}\n",
    "\n",
    "cons = ([con1,con2,con3,con4,con5,con6,con7])\n",
    "solution= minimize(objective,x0,\n",
    "                   bounds=bnds,constraints=cons)\n",
    "print(solution)"
   ]
  },
  {
   "cell_type": "code",
   "execution_count": 88,
   "metadata": {},
   "outputs": [
    {
     "data": {
      "text/plain": [
       "list"
      ]
     },
     "execution_count": 88,
     "metadata": {},
     "output_type": "execute_result"
    }
   ],
   "source": [
    "type(cons)"
   ]
  },
  {
   "cell_type": "code",
   "execution_count": 46,
   "metadata": {},
   "outputs": [
    {
     "name": "stdout",
     "output_type": "stream",
     "text": [
      "Max profit : 5100.0\n",
      "\n",
      "PyMathProg 1.0 Sensitivity Report Created: 2019/11/17 Sun 14:14PM\n",
      "================================================================================\n",
      "Variable            Activity   Dual.Value     Obj.Coef   Range.From   Range.Till\n",
      "--------------------------------------------------------------------------------\n",
      "*x1                    20000            0         0.12         0.09        0.135\n",
      "*x2                    30000            0         0.09         0.08         0.12\n",
      "================================================================================\n",
      "================================================================================\n",
      "Constraint       Activity Dual.Value  Lower.Bnd  Upper.Bnd RangeLower RangeUpper\n",
      "--------------------------------------------------------------------------------\n",
      " R1                 50000       0.03       -inf      50000      42500      60000\n",
      " R2                   240         15       -inf        240        200        270\n",
      "================================================================================\n"
     ]
    },
    {
     "data": {
      "text/plain": [
       "model('Portfolio') is not the default model."
      ]
     },
     "execution_count": 46,
     "metadata": {},
     "output_type": "execute_result"
    }
   ],
   "source": [
    "import pymprog as pm\n",
    "\n",
    "pm . begin ('Portfolio')\n",
    "x1 , x2 = pm . var ('x1 ,x2 ')# variables\n",
    "pm . maximize (0.12*x1 + 0.09*x2, 'profit')\n",
    "x1 + x2 <= 50000\n",
    "x1<=35000\n",
    "0.006*x1 + 0.004*x2 <=240\n",
    "pm . solve ()\n",
    "print ('Max profit :',pm . vobj () )\n",
    "pm . sensitivity ()\n",
    "pm . end ()"
   ]
  },
  {
   "cell_type": "code",
   "execution_count": 47,
   "metadata": {},
   "outputs": [
    {
     "name": "stdout",
     "output_type": "stream",
     "text": [
      "Max profit : 5250.0\n",
      "\n",
      "PyMathProg 1.0 Sensitivity Report Created: 2019/11/17 Sun 15:34PM\n",
      "================================================================================\n",
      "Variable            Activity   Dual.Value     Obj.Coef   Range.From   Range.Till\n",
      "--------------------------------------------------------------------------------\n",
      "*x1                    10000            0         0.12         0.09        0.135\n",
      "*x2                    45000            0         0.09         0.08         0.12\n",
      "================================================================================\n",
      "================================================================================\n",
      "Constraint       Activity Dual.Value  Lower.Bnd  Upper.Bnd RangeLower RangeUpper\n",
      "--------------------------------------------------------------------------------\n",
      " R1                 55000       0.03       -inf      55000      42500      60000\n",
      " R2                   240         15       -inf        240        220        290\n",
      "================================================================================\n"
     ]
    },
    {
     "data": {
      "text/plain": [
       "model('Portfolio') is not the default model."
      ]
     },
     "execution_count": 47,
     "metadata": {},
     "output_type": "execute_result"
    }
   ],
   "source": [
    "import pymprog as pm\n",
    "\n",
    "pm . begin ('Portfolio')\n",
    "x1 , x2 = pm . var ('x1 ,x2 ')# variables\n",
    "pm . maximize (0.12*x1 + 0.09*x2, 'profit')\n",
    "x1 + x2 <= 55000\n",
    "x1<=35000\n",
    "0.006*x1 + 0.004*x2 <=240\n",
    "pm . solve ()\n",
    "print ('Max profit :',pm . vobj () )\n",
    "pm . sensitivity ()\n",
    "pm . end ()\n"
   ]
  },
  {
   "cell_type": "code",
   "execution_count": 68,
   "metadata": {},
   "outputs": [],
   "source": [
    "def objective (x) :\n",
    "    return -( x [3] + x [4] + x [5] + x [6]) /4 + x [7] \n",
    "\n",
    "def constraint1 (x):\n",
    "    return -(-39.8* x [0] - 42.5* x [1] - 10.2* x [2]) + x [3]\n",
    "\n",
    "def constraint2 (x):\n",
    "    return -(10*x[0] + 13.60*x[1] + 137.90*x[2]) + x[4]\n",
    "\n",
    "def constraint3 (x):\n",
    "    return -(124.90*x[0] + 56.90*x[1] + 170.60*x[2]) + x[5]\n",
    "\n",
    "def constraint4 (x):\n",
    "    return -(151.80*x[0] + 36.70*x[1] + 16.60*x[2]) + x[6]\n",
    "\n",
    "def constraint5 (x):\n",
    "    return -(x[0]+x[1]+x[2])+1\n",
    "\n",
    "\n",
    "    \n",
    "def constraint7 (x):\n",
    "    return 1/4*(( x [3] - x [7]) **2 + ( x[4] - x [7]) **2 + ( x [5] - x[7]) **2 +( x[6] - x [7]) **2)-1500\n",
    "    \n"
   ]
  },
  {
   "cell_type": "code",
   "execution_count": 73,
   "metadata": {},
   "outputs": [
    {
     "name": "stdout",
     "output_type": "stream",
     "text": [
      "     fun: -43.72499990641322\n",
      "     jac: array([ 0.  ,  0.  ,  0.  , -0.25, -0.25, -0.25, -0.25,  1.  ])\n",
      " message: 'Optimization terminated successfully.'\n",
      "    nfev: 150\n",
      "     nit: 15\n",
      "    njev: 15\n",
      "  status: 0\n",
      " success: True\n",
      "       x: array([ 0.00000000e+00,  6.59222676e-13,  1.00000000e+00, -1.02000000e+01,\n",
      "        1.37900000e+02,  1.70600000e+02,  1.65999998e+01,  3.50000000e+01])\n"
     ]
    }
   ],
   "source": [
    "n = 8\n",
    "x0 = np.random.random(8)\n",
    "#print(objective(x0))\n",
    "\n",
    "b1 = (0.0 ,1.0)\n",
    "b2 = ( -100.0 , 200.0)\n",
    "b3 = (35.0 , 200.0)\n",
    "\n",
    "bnds = ( b1 , b1 , b1 , b2 , b2 , b2 , b2 , b3 )\n",
    "\n",
    "con1 = {'type': 'eq', 'fun': constraint1}\n",
    "con2 = {'type': 'eq', 'fun': constraint2}\n",
    "con3 = {'type': 'eq', 'fun': constraint3}\n",
    "con4 = {'type': 'eq', 'fun': constraint4}\n",
    "con5 = {'type': 'eq', 'fun': constraint5}\n",
    "#con6 = {'type': 'eq', 'fun': constraint6}\n",
    "con7 = {'type': 'ineq', 'fun': constraint7}\n",
    "\n",
    "cons = ([con1,con2,con3,con4,con5,con7])\n",
    "solution= minimize(objective,x0,\n",
    "                   bounds=bnds,constraints=cons)\n",
    "print(solution)"
   ]
  },
  {
   "cell_type": "code",
   "execution_count": 71,
   "metadata": {},
   "outputs": [
    {
     "name": "stdout",
     "output_type": "stream",
     "text": [
      "     fun: 33.236041626097034\n",
      "     jac: array([ 0.  ,  0.  ,  0.  , -0.25, -0.25, -0.25, -0.25,  1.  ])\n",
      " message: 'Positive directional derivative for linesearch'\n",
      "    nfev: 90\n",
      "     nit: 13\n",
      "    njev: 9\n",
      "  status: 8\n",
      " success: False\n",
      "       x: array([ 0.77268041,  0.        ,  0.        , -2.66904748, -9.06311013,\n",
      "        7.38124013, 26.15606119, 38.68732755])\n"
     ]
    }
   ],
   "source": [
    "con1 = {'type': 'eq', 'fun': constraint1}\n",
    "con2 = {'type': 'eq', 'fun': constraint2}\n",
    "con3 = {'type': 'eq', 'fun': constraint3} \n",
    "con4 = {'type': 'eq', 'fun': constraint4}\n",
    "con5 = {'type': 'eq', 'fun': constraint5}\n",
    "con6 = {'type': 'eq', 'fun': constraint6}\n",
    "con7 = {'type': 'ineq', 'fun': constraint7}\n",
    "\n",
    "cons = ([con1,con2,con3,con4,con5,con6,con7])\n",
    "solution= minimize(objective,x0,\n",
    "                   bounds=bnds,constraints=cons)\n",
    "print(solution)"
   ]
  },
  {
   "cell_type": "code",
   "execution_count": 57,
   "metadata": {},
   "outputs": [
    {
     "data": {
      "text/plain": [
       "array([0.31158246, 0.82384245, 0.60938678, 0.41687678, 0.92252351,\n",
       "       0.34536835, 0.88650713, 0.24763538])"
      ]
     },
     "execution_count": 57,
     "metadata": {},
     "output_type": "execute_result"
    }
   ],
   "source": [
    "x0\n"
   ]
  },
  {
   "cell_type": "code",
   "execution_count": 43,
   "metadata": {},
   "outputs": [
    {
     "data": {
      "text/plain": [
       "7.105427357601002e-15"
      ]
     },
     "execution_count": 43,
     "metadata": {},
     "output_type": "execute_result"
    }
   ],
   "source": [
    "7.105427357601002e-15"
   ]
  },
  {
   "cell_type": "code",
   "execution_count": 44,
   "metadata": {},
   "outputs": [
    {
     "data": {
      "text/plain": [
       "0"
      ]
     },
     "execution_count": 44,
     "metadata": {},
     "output_type": "execute_result"
    }
   ],
   "source": [
    "round(7.105427357601002e-15)"
   ]
  },
  {
   "cell_type": "code",
   "execution_count": 45,
   "metadata": {},
   "outputs": [],
   "source": [
    "h=7.105427357601002e-15"
   ]
  },
  {
   "cell_type": "code",
   "execution_count": 46,
   "metadata": {},
   "outputs": [
    {
     "ename": "AttributeError",
     "evalue": "'float' object has no attribute 'round'",
     "output_type": "error",
     "traceback": [
      "\u001b[1;31m---------------------------------------------------------------------------\u001b[0m",
      "\u001b[1;31mAttributeError\u001b[0m                            Traceback (most recent call last)",
      "\u001b[1;32m<ipython-input-46-09eb32248b2c>\u001b[0m in \u001b[0;36m<module>\u001b[1;34m\u001b[0m\n\u001b[1;32m----> 1\u001b[1;33m \u001b[0mh\u001b[0m\u001b[1;33m.\u001b[0m\u001b[0mround\u001b[0m\u001b[1;33m(\u001b[0m\u001b[1;36m2\u001b[0m\u001b[1;33m)\u001b[0m\u001b[1;33m\u001b[0m\u001b[1;33m\u001b[0m\u001b[0m\n\u001b[0m",
      "\u001b[1;31mAttributeError\u001b[0m: 'float' object has no attribute 'round'"
     ]
    }
   ],
   "source": [
    "h.round(2)"
   ]
  },
  {
   "cell_type": "code",
   "execution_count": 68,
   "metadata": {},
   "outputs": [
    {
     "data": {
      "text/plain": [
       "float"
      ]
     },
     "execution_count": 68,
     "metadata": {},
     "output_type": "execute_result"
    }
   ],
   "source": [
    "type(h)"
   ]
  },
  {
   "cell_type": "code",
   "execution_count": 82,
   "metadata": {},
   "outputs": [
    {
     "data": {
      "text/plain": [
       "array([  0.8388675 ,   0.1611325 ,   0.        , -40.23505768,\n",
       "        10.58007697, 113.94299001, 133.253649  ,  54.38541458])"
      ]
     },
     "execution_count": 82,
     "metadata": {},
     "output_type": "execute_result"
    }
   ],
   "source": [
    "solution.x"
   ]
  },
  {
   "cell_type": "code",
   "execution_count": 58,
   "metadata": {},
   "outputs": [],
   "source": [
    "a=solution.x[0]"
   ]
  },
  {
   "cell_type": "code",
   "execution_count": 59,
   "metadata": {},
   "outputs": [],
   "source": [
    "b=solution.x[1]"
   ]
  },
  {
   "cell_type": "code",
   "execution_count": 60,
   "metadata": {},
   "outputs": [],
   "source": [
    "c=solution.x[2]"
   ]
  },
  {
   "cell_type": "code",
   "execution_count": 61,
   "metadata": {},
   "outputs": [
    {
     "data": {
      "text/plain": [
       "0.9999999999999999"
      ]
     },
     "execution_count": 61,
     "metadata": {},
     "output_type": "execute_result"
    }
   ],
   "source": [
    "a+b+c"
   ]
  },
  {
   "cell_type": "code",
   "execution_count": 62,
   "metadata": {},
   "outputs": [
    {
     "data": {
      "text/plain": [
       "0.860780641591855"
      ]
     },
     "execution_count": 62,
     "metadata": {},
     "output_type": "execute_result"
    }
   ],
   "source": [
    "a"
   ]
  },
  {
   "cell_type": "code",
   "execution_count": 65,
   "metadata": {},
   "outputs": [
    {
     "data": {
      "text/plain": [
       "0.13921935840814495"
      ]
     },
     "execution_count": 65,
     "metadata": {},
     "output_type": "execute_result"
    }
   ],
   "source": [
    "b"
   ]
  },
  {
   "cell_type": "code",
   "execution_count": 66,
   "metadata": {},
   "outputs": [
    {
     "data": {
      "text/plain": [
       "1.550963648536927e-25"
      ]
     },
     "execution_count": 66,
     "metadata": {},
     "output_type": "execute_result"
    }
   ],
   "source": [
    "c"
   ]
  },
  {
   "cell_type": "code",
   "execution_count": null,
   "metadata": {},
   "outputs": [],
   "source": []
  },
  {
   "cell_type": "code",
   "execution_count": null,
   "metadata": {},
   "outputs": [],
   "source": []
  }
 ],
 "metadata": {
  "kernelspec": {
   "display_name": "Python 3",
   "language": "python",
   "name": "python3"
  },
  "language_info": {
   "codemirror_mode": {
    "name": "ipython",
    "version": 3
   },
   "file_extension": ".py",
   "mimetype": "text/x-python",
   "name": "python",
   "nbconvert_exporter": "python",
   "pygments_lexer": "ipython3",
   "version": "3.7.4"
  }
 },
 "nbformat": 4,
 "nbformat_minor": 2
}
